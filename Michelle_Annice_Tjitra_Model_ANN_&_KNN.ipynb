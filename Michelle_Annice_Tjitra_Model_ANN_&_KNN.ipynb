{
  "nbformat": 4,
  "nbformat_minor": 0,
  "metadata": {
    "kernelspec": {
      "display_name": "Python 3",
      "language": "python",
      "name": "python3"
    },
    "language_info": {
      "codemirror_mode": {
        "name": "ipython",
        "version": 3
      },
      "file_extension": ".py",
      "mimetype": "text/x-python",
      "name": "python",
      "nbconvert_exporter": "python",
      "pygments_lexer": "ipython3",
      "version": "3.7.6"
    },
    "colab": {
      "name": "Michelle Annice Tjitra_Model ANN & KNN.ipynb",
      "provenance": [],
      "collapsed_sections": []
    },
    "accelerator": "GPU"
  },
  "cells": [
    {
      "cell_type": "markdown",
      "metadata": {
        "id": "fXyErK3La9VY"
      },
      "source": [
        "## Import Library yg dibutuhkan"
      ]
    },
    {
      "cell_type": "code",
      "metadata": {
        "id": "o-sY0DCpa9Vi"
      },
      "source": [
        "import pandas as pd\n",
        "import numpy as np\n",
        "import matplotlib.pyplot as plt\n",
        "import warnings\n",
        "from sklearn import metrics\n",
        "import seaborn as sns\n",
        "from collections import Counter\n",
        "warnings.filterwarnings(\"ignore\")\n",
        "%matplotlib inline"
      ],
      "execution_count": 472,
      "outputs": []
    },
    {
      "cell_type": "markdown",
      "metadata": {
        "id": "uLNZYwquyKKa"
      },
      "source": [
        ""
      ]
    },
    {
      "cell_type": "code",
      "metadata": {
        "id": "mdVVIvqIa9Vm"
      },
      "source": [
        "data = pd.read_csv('activity_km_07_01.csv')"
      ],
      "execution_count": 473,
      "outputs": []
    },
    {
      "cell_type": "code",
      "metadata": {
        "id": "Kwh2UjUMa9Vo",
        "colab": {
          "base_uri": "https://localhost:8080/",
          "height": 419
        },
        "outputId": "10243571-c264-4331-87ad-c9094cdfdbfd"
      },
      "source": [
        "data"
      ],
      "execution_count": 474,
      "outputs": [
        {
          "output_type": "execute_result",
          "data": {
            "text/html": [
              "<div>\n",
              "<style scoped>\n",
              "    .dataframe tbody tr th:only-of-type {\n",
              "        vertical-align: middle;\n",
              "    }\n",
              "\n",
              "    .dataframe tbody tr th {\n",
              "        vertical-align: top;\n",
              "    }\n",
              "\n",
              "    .dataframe thead th {\n",
              "        text-align: right;\n",
              "    }\n",
              "</style>\n",
              "<table border=\"1\" class=\"dataframe\">\n",
              "  <thead>\n",
              "    <tr style=\"text-align: right;\">\n",
              "      <th></th>\n",
              "      <th>PH</th>\n",
              "      <th>cahaya</th>\n",
              "      <th>intensitas air</th>\n",
              "      <th>suhu</th>\n",
              "      <th>PPM</th>\n",
              "      <th>tinggi air</th>\n",
              "      <th>aksi</th>\n",
              "    </tr>\n",
              "  </thead>\n",
              "  <tbody>\n",
              "    <tr>\n",
              "      <th>0</th>\n",
              "      <td>6.5</td>\n",
              "      <td>Ada</td>\n",
              "      <td>Tinggi</td>\n",
              "      <td>27.0</td>\n",
              "      <td>188.0</td>\n",
              "      <td>622</td>\n",
              "      <td>Hidupkan Lampu dan Pompa nutrisi TDS</td>\n",
              "    </tr>\n",
              "    <tr>\n",
              "      <th>1</th>\n",
              "      <td>5.7</td>\n",
              "      <td>Ada</td>\n",
              "      <td>Tinggi</td>\n",
              "      <td>26.9</td>\n",
              "      <td>79.0</td>\n",
              "      <td>557</td>\n",
              "      <td>Hidupkan Lampu dan Pompa nutrisi TDS</td>\n",
              "    </tr>\n",
              "    <tr>\n",
              "      <th>2</th>\n",
              "      <td>6.0</td>\n",
              "      <td>Ada</td>\n",
              "      <td>Tinggi</td>\n",
              "      <td>27.0</td>\n",
              "      <td>11.0</td>\n",
              "      <td>491</td>\n",
              "      <td>Hidupkan Lampu dan Pompa nutrisi TDS</td>\n",
              "    </tr>\n",
              "    <tr>\n",
              "      <th>3</th>\n",
              "      <td>6.5</td>\n",
              "      <td>Ada</td>\n",
              "      <td>Tinggi</td>\n",
              "      <td>27.1</td>\n",
              "      <td>345.0</td>\n",
              "      <td>12000</td>\n",
              "      <td>Tidak melakukan apa-apa</td>\n",
              "    </tr>\n",
              "    <tr>\n",
              "      <th>4</th>\n",
              "      <td>6.2</td>\n",
              "      <td>NaN</td>\n",
              "      <td>Tinggi</td>\n",
              "      <td>27.1</td>\n",
              "      <td>602.0</td>\n",
              "      <td>444</td>\n",
              "      <td>Tidak melakukan apa-apa</td>\n",
              "    </tr>\n",
              "    <tr>\n",
              "      <th>...</th>\n",
              "      <td>...</td>\n",
              "      <td>...</td>\n",
              "      <td>...</td>\n",
              "      <td>...</td>\n",
              "      <td>...</td>\n",
              "      <td>...</td>\n",
              "      <td>...</td>\n",
              "    </tr>\n",
              "    <tr>\n",
              "      <th>611</th>\n",
              "      <td>4.6</td>\n",
              "      <td>Ada</td>\n",
              "      <td>Rendah sekali</td>\n",
              "      <td>25.3</td>\n",
              "      <td>904.0</td>\n",
              "      <td>47</td>\n",
              "      <td>Hidupkan Lampu</td>\n",
              "    </tr>\n",
              "    <tr>\n",
              "      <th>612</th>\n",
              "      <td>2.1</td>\n",
              "      <td>Ada</td>\n",
              "      <td>Rendah sekali</td>\n",
              "      <td>25.0</td>\n",
              "      <td>388.0</td>\n",
              "      <td>18</td>\n",
              "      <td>Hidupkan Lampu dan Pompa nutrisi TDS</td>\n",
              "    </tr>\n",
              "    <tr>\n",
              "      <th>613</th>\n",
              "      <td>3.2</td>\n",
              "      <td>Ada</td>\n",
              "      <td>Rendah sekali</td>\n",
              "      <td>25.3</td>\n",
              "      <td>793.0</td>\n",
              "      <td>19</td>\n",
              "      <td>Hidupkan Lampu</td>\n",
              "    </tr>\n",
              "    <tr>\n",
              "      <th>614</th>\n",
              "      <td>1.4</td>\n",
              "      <td>Ada</td>\n",
              "      <td>Rendah sekali</td>\n",
              "      <td>25.4</td>\n",
              "      <td>1052.0</td>\n",
              "      <td>3</td>\n",
              "      <td>Hidupkan Lampu</td>\n",
              "    </tr>\n",
              "    <tr>\n",
              "      <th>615</th>\n",
              "      <td>5.0</td>\n",
              "      <td>Ada</td>\n",
              "      <td>Rendah sekali</td>\n",
              "      <td>25.3</td>\n",
              "      <td>977.0</td>\n",
              "      <td>19</td>\n",
              "      <td>Hidupkan Lampu</td>\n",
              "    </tr>\n",
              "  </tbody>\n",
              "</table>\n",
              "<p>616 rows × 7 columns</p>\n",
              "</div>"
            ],
            "text/plain": [
              "      PH cahaya  ... tinggi air                                  aksi\n",
              "0    6.5    Ada  ...        622  Hidupkan Lampu dan Pompa nutrisi TDS\n",
              "1    5.7    Ada  ...        557  Hidupkan Lampu dan Pompa nutrisi TDS\n",
              "2    6.0    Ada  ...        491  Hidupkan Lampu dan Pompa nutrisi TDS\n",
              "3    6.5    Ada  ...      12000               Tidak melakukan apa-apa\n",
              "4    6.2    NaN  ...        444               Tidak melakukan apa-apa\n",
              "..   ...    ...  ...        ...                                   ...\n",
              "611  4.6    Ada  ...         47                        Hidupkan Lampu\n",
              "612  2.1    Ada  ...         18  Hidupkan Lampu dan Pompa nutrisi TDS\n",
              "613  3.2    Ada  ...         19                        Hidupkan Lampu\n",
              "614  1.4    Ada  ...          3                        Hidupkan Lampu\n",
              "615  5.0    Ada  ...         19                        Hidupkan Lampu\n",
              "\n",
              "[616 rows x 7 columns]"
            ]
          },
          "metadata": {},
          "execution_count": 474
        }
      ]
    },
    {
      "cell_type": "code",
      "metadata": {
        "colab": {
          "base_uri": "https://localhost:8080/",
          "height": 266
        },
        "id": "XxIsXgyr0nbe",
        "outputId": "60937032-7c70-41f4-adfb-61af0b0315ce"
      },
      "source": [
        "missing_data = pd.DataFrame({'total_missing': data.isnull().sum(), 'perc_missing': (data.isnull().sum()/891)*100})\n",
        "missing_data"
      ],
      "execution_count": 475,
      "outputs": [
        {
          "output_type": "execute_result",
          "data": {
            "text/html": [
              "<div>\n",
              "<style scoped>\n",
              "    .dataframe tbody tr th:only-of-type {\n",
              "        vertical-align: middle;\n",
              "    }\n",
              "\n",
              "    .dataframe tbody tr th {\n",
              "        vertical-align: top;\n",
              "    }\n",
              "\n",
              "    .dataframe thead th {\n",
              "        text-align: right;\n",
              "    }\n",
              "</style>\n",
              "<table border=\"1\" class=\"dataframe\">\n",
              "  <thead>\n",
              "    <tr style=\"text-align: right;\">\n",
              "      <th></th>\n",
              "      <th>total_missing</th>\n",
              "      <th>perc_missing</th>\n",
              "    </tr>\n",
              "  </thead>\n",
              "  <tbody>\n",
              "    <tr>\n",
              "      <th>PH</th>\n",
              "      <td>16</td>\n",
              "      <td>1.795735</td>\n",
              "    </tr>\n",
              "    <tr>\n",
              "      <th>cahaya</th>\n",
              "      <td>26</td>\n",
              "      <td>2.918070</td>\n",
              "    </tr>\n",
              "    <tr>\n",
              "      <th>intensitas air</th>\n",
              "      <td>0</td>\n",
              "      <td>0.000000</td>\n",
              "    </tr>\n",
              "    <tr>\n",
              "      <th>suhu</th>\n",
              "      <td>27</td>\n",
              "      <td>3.030303</td>\n",
              "    </tr>\n",
              "    <tr>\n",
              "      <th>PPM</th>\n",
              "      <td>5</td>\n",
              "      <td>0.561167</td>\n",
              "    </tr>\n",
              "    <tr>\n",
              "      <th>tinggi air</th>\n",
              "      <td>0</td>\n",
              "      <td>0.000000</td>\n",
              "    </tr>\n",
              "    <tr>\n",
              "      <th>aksi</th>\n",
              "      <td>0</td>\n",
              "      <td>0.000000</td>\n",
              "    </tr>\n",
              "  </tbody>\n",
              "</table>\n",
              "</div>"
            ],
            "text/plain": [
              "                total_missing  perc_missing\n",
              "PH                         16      1.795735\n",
              "cahaya                     26      2.918070\n",
              "intensitas air              0      0.000000\n",
              "suhu                       27      3.030303\n",
              "PPM                         5      0.561167\n",
              "tinggi air                  0      0.000000\n",
              "aksi                        0      0.000000"
            ]
          },
          "metadata": {},
          "execution_count": 475
        }
      ]
    },
    {
      "cell_type": "markdown",
      "metadata": {
        "id": "WZ3GE8pya9Vr"
      },
      "source": [
        "## 1. Mengganti nama kolom yang menggunakan spasi"
      ]
    },
    {
      "cell_type": "code",
      "metadata": {
        "id": "v0csWHwRa9Vs",
        "colab": {
          "base_uri": "https://localhost:8080/"
        },
        "outputId": "1145dab1-83f9-465e-a1e8-36ebb7398cce"
      },
      "source": [
        "data.columns = ['PH', 'cahaya', 'intensitas_air', 'suhu', 'PPM', 'tinggi_air', 'aksi']\n",
        "data.columns"
      ],
      "execution_count": 476,
      "outputs": [
        {
          "output_type": "execute_result",
          "data": {
            "text/plain": [
              "Index(['PH', 'cahaya', 'intensitas_air', 'suhu', 'PPM', 'tinggi_air', 'aksi'], dtype='object')"
            ]
          },
          "metadata": {},
          "execution_count": 476
        }
      ]
    },
    {
      "cell_type": "markdown",
      "metadata": {
        "id": "vCYDhpdfa9Vt"
      },
      "source": [
        "## 2. Mengganti data kategorikal menjadi bentuk numerical (Clue : Labelencoder tidak bekerja ketika ada missing value, gunakan metode lain)"
      ]
    },
    {
      "cell_type": "code",
      "metadata": {
        "id": "HNAJfwlCa9Vu",
        "colab": {
          "base_uri": "https://localhost:8080/",
          "height": 419
        },
        "outputId": "82493a51-badb-41d2-a730-10108c7de7ab"
      },
      "source": [
        "def cahaya(str):\n",
        "    if str == \"Ada\":\n",
        "        return 1\n",
        "    elif str == \"Tidak ada\":\n",
        "        return 2\n",
        "    else:\n",
        "        return str\n",
        "data[\"cahaya\"] = data[\"cahaya\"].apply(cahaya)\n",
        "\n",
        "\n",
        "def intensitas_air(str):\n",
        "    if str == \"Tinggi\":\n",
        "        return 4\n",
        "    elif str == \"Cukup\":\n",
        "        return 3\n",
        "    elif str == \"Rendah\":\n",
        "        return 2\n",
        "    else:\n",
        "        return 1\n",
        "data[\"intensitas_air\"] = data[\"intensitas_air\"].apply(intensitas_air)\n",
        "\n",
        "\n",
        "def aksi(str):\n",
        "    if str == \"Tidak melakukan apa-apa\":\n",
        "        return 1\n",
        "    elif str == \"Hidupkan Lampu\":\n",
        "        return 2\n",
        "    elif str == \"Hidupkan Lampu dan Pompa nutrisi TDS\":\n",
        "        return 3\n",
        "    else:\n",
        "        return 4\n",
        "data[\"aksi\"] = data[\"aksi\"].apply(aksi)\n",
        "\n",
        "data"
      ],
      "execution_count": 477,
      "outputs": [
        {
          "output_type": "execute_result",
          "data": {
            "text/html": [
              "<div>\n",
              "<style scoped>\n",
              "    .dataframe tbody tr th:only-of-type {\n",
              "        vertical-align: middle;\n",
              "    }\n",
              "\n",
              "    .dataframe tbody tr th {\n",
              "        vertical-align: top;\n",
              "    }\n",
              "\n",
              "    .dataframe thead th {\n",
              "        text-align: right;\n",
              "    }\n",
              "</style>\n",
              "<table border=\"1\" class=\"dataframe\">\n",
              "  <thead>\n",
              "    <tr style=\"text-align: right;\">\n",
              "      <th></th>\n",
              "      <th>PH</th>\n",
              "      <th>cahaya</th>\n",
              "      <th>intensitas_air</th>\n",
              "      <th>suhu</th>\n",
              "      <th>PPM</th>\n",
              "      <th>tinggi_air</th>\n",
              "      <th>aksi</th>\n",
              "    </tr>\n",
              "  </thead>\n",
              "  <tbody>\n",
              "    <tr>\n",
              "      <th>0</th>\n",
              "      <td>6.5</td>\n",
              "      <td>1.0</td>\n",
              "      <td>4</td>\n",
              "      <td>27.0</td>\n",
              "      <td>188.0</td>\n",
              "      <td>622</td>\n",
              "      <td>3</td>\n",
              "    </tr>\n",
              "    <tr>\n",
              "      <th>1</th>\n",
              "      <td>5.7</td>\n",
              "      <td>1.0</td>\n",
              "      <td>4</td>\n",
              "      <td>26.9</td>\n",
              "      <td>79.0</td>\n",
              "      <td>557</td>\n",
              "      <td>3</td>\n",
              "    </tr>\n",
              "    <tr>\n",
              "      <th>2</th>\n",
              "      <td>6.0</td>\n",
              "      <td>1.0</td>\n",
              "      <td>4</td>\n",
              "      <td>27.0</td>\n",
              "      <td>11.0</td>\n",
              "      <td>491</td>\n",
              "      <td>3</td>\n",
              "    </tr>\n",
              "    <tr>\n",
              "      <th>3</th>\n",
              "      <td>6.5</td>\n",
              "      <td>1.0</td>\n",
              "      <td>4</td>\n",
              "      <td>27.1</td>\n",
              "      <td>345.0</td>\n",
              "      <td>12000</td>\n",
              "      <td>1</td>\n",
              "    </tr>\n",
              "    <tr>\n",
              "      <th>4</th>\n",
              "      <td>6.2</td>\n",
              "      <td>NaN</td>\n",
              "      <td>4</td>\n",
              "      <td>27.1</td>\n",
              "      <td>602.0</td>\n",
              "      <td>444</td>\n",
              "      <td>1</td>\n",
              "    </tr>\n",
              "    <tr>\n",
              "      <th>...</th>\n",
              "      <td>...</td>\n",
              "      <td>...</td>\n",
              "      <td>...</td>\n",
              "      <td>...</td>\n",
              "      <td>...</td>\n",
              "      <td>...</td>\n",
              "      <td>...</td>\n",
              "    </tr>\n",
              "    <tr>\n",
              "      <th>611</th>\n",
              "      <td>4.6</td>\n",
              "      <td>1.0</td>\n",
              "      <td>1</td>\n",
              "      <td>25.3</td>\n",
              "      <td>904.0</td>\n",
              "      <td>47</td>\n",
              "      <td>2</td>\n",
              "    </tr>\n",
              "    <tr>\n",
              "      <th>612</th>\n",
              "      <td>2.1</td>\n",
              "      <td>1.0</td>\n",
              "      <td>1</td>\n",
              "      <td>25.0</td>\n",
              "      <td>388.0</td>\n",
              "      <td>18</td>\n",
              "      <td>3</td>\n",
              "    </tr>\n",
              "    <tr>\n",
              "      <th>613</th>\n",
              "      <td>3.2</td>\n",
              "      <td>1.0</td>\n",
              "      <td>1</td>\n",
              "      <td>25.3</td>\n",
              "      <td>793.0</td>\n",
              "      <td>19</td>\n",
              "      <td>2</td>\n",
              "    </tr>\n",
              "    <tr>\n",
              "      <th>614</th>\n",
              "      <td>1.4</td>\n",
              "      <td>1.0</td>\n",
              "      <td>1</td>\n",
              "      <td>25.4</td>\n",
              "      <td>1052.0</td>\n",
              "      <td>3</td>\n",
              "      <td>2</td>\n",
              "    </tr>\n",
              "    <tr>\n",
              "      <th>615</th>\n",
              "      <td>5.0</td>\n",
              "      <td>1.0</td>\n",
              "      <td>1</td>\n",
              "      <td>25.3</td>\n",
              "      <td>977.0</td>\n",
              "      <td>19</td>\n",
              "      <td>2</td>\n",
              "    </tr>\n",
              "  </tbody>\n",
              "</table>\n",
              "<p>616 rows × 7 columns</p>\n",
              "</div>"
            ],
            "text/plain": [
              "      PH  cahaya  intensitas_air  suhu     PPM  tinggi_air  aksi\n",
              "0    6.5     1.0               4  27.0   188.0         622     3\n",
              "1    5.7     1.0               4  26.9    79.0         557     3\n",
              "2    6.0     1.0               4  27.0    11.0         491     3\n",
              "3    6.5     1.0               4  27.1   345.0       12000     1\n",
              "4    6.2     NaN               4  27.1   602.0         444     1\n",
              "..   ...     ...             ...   ...     ...         ...   ...\n",
              "611  4.6     1.0               1  25.3   904.0          47     2\n",
              "612  2.1     1.0               1  25.0   388.0          18     3\n",
              "613  3.2     1.0               1  25.3   793.0          19     2\n",
              "614  1.4     1.0               1  25.4  1052.0           3     2\n",
              "615  5.0     1.0               1  25.3   977.0          19     2\n",
              "\n",
              "[616 rows x 7 columns]"
            ]
          },
          "metadata": {},
          "execution_count": 477
        }
      ]
    },
    {
      "cell_type": "markdown",
      "metadata": {
        "id": "W5Ka60uYa9Vv"
      },
      "source": [
        "## 3. Handle Missing Value"
      ]
    },
    {
      "cell_type": "code",
      "metadata": {
        "colab": {
          "base_uri": "https://localhost:8080/"
        },
        "id": "WROEsIWbNUgw",
        "outputId": "156c3fa8-764a-461c-9692-21924f8236b5"
      },
      "source": [
        "data.isnull().sum()"
      ],
      "execution_count": 478,
      "outputs": [
        {
          "output_type": "execute_result",
          "data": {
            "text/plain": [
              "PH                16\n",
              "cahaya            26\n",
              "intensitas_air     0\n",
              "suhu              27\n",
              "PPM                5\n",
              "tinggi_air         0\n",
              "aksi               0\n",
              "dtype: int64"
            ]
          },
          "metadata": {},
          "execution_count": 478
        }
      ]
    },
    {
      "cell_type": "code",
      "metadata": {
        "id": "IbiCl94c-88m"
      },
      "source": [
        "data['PH'] = data['PH'].fillna(data['PH'].mean())"
      ],
      "execution_count": 479,
      "outputs": []
    },
    {
      "cell_type": "code",
      "metadata": {
        "id": "Ha-9VCUH_gls"
      },
      "source": [
        "data['cahaya'] = data['cahaya'].fillna(data['cahaya'].mean())"
      ],
      "execution_count": 480,
      "outputs": []
    },
    {
      "cell_type": "code",
      "metadata": {
        "id": "RodNC7Me_vDH"
      },
      "source": [
        "data['suhu'] = data['suhu'].fillna(data['suhu'].mean())"
      ],
      "execution_count": 481,
      "outputs": []
    },
    {
      "cell_type": "code",
      "metadata": {
        "id": "nW-FXDww_4gy"
      },
      "source": [
        "data['PPM'] = data['PPM'].fillna(data['PPM'].mean())"
      ],
      "execution_count": 482,
      "outputs": []
    },
    {
      "cell_type": "code",
      "metadata": {
        "colab": {
          "base_uri": "https://localhost:8080/"
        },
        "id": "d9dwQdmw5ScK",
        "outputId": "248d4015-4ccc-4951-ec34-f7002ec86f23"
      },
      "source": [
        "data.isnull().sum()"
      ],
      "execution_count": 483,
      "outputs": [
        {
          "output_type": "execute_result",
          "data": {
            "text/plain": [
              "PH                0\n",
              "cahaya            0\n",
              "intensitas_air    0\n",
              "suhu              0\n",
              "PPM               0\n",
              "tinggi_air        0\n",
              "aksi              0\n",
              "dtype: int64"
            ]
          },
          "metadata": {},
          "execution_count": 483
        }
      ]
    },
    {
      "cell_type": "code",
      "metadata": {
        "colab": {
          "base_uri": "https://localhost:8080/",
          "height": 297
        },
        "id": "vp-Y6Oof__T8",
        "outputId": "05293fca-ed38-47d2-b6d7-d2111a566dfd"
      },
      "source": [
        "data.describe()"
      ],
      "execution_count": 484,
      "outputs": [
        {
          "output_type": "execute_result",
          "data": {
            "text/html": [
              "<div>\n",
              "<style scoped>\n",
              "    .dataframe tbody tr th:only-of-type {\n",
              "        vertical-align: middle;\n",
              "    }\n",
              "\n",
              "    .dataframe tbody tr th {\n",
              "        vertical-align: top;\n",
              "    }\n",
              "\n",
              "    .dataframe thead th {\n",
              "        text-align: right;\n",
              "    }\n",
              "</style>\n",
              "<table border=\"1\" class=\"dataframe\">\n",
              "  <thead>\n",
              "    <tr style=\"text-align: right;\">\n",
              "      <th></th>\n",
              "      <th>PH</th>\n",
              "      <th>cahaya</th>\n",
              "      <th>intensitas_air</th>\n",
              "      <th>suhu</th>\n",
              "      <th>PPM</th>\n",
              "      <th>tinggi_air</th>\n",
              "      <th>aksi</th>\n",
              "    </tr>\n",
              "  </thead>\n",
              "  <tbody>\n",
              "    <tr>\n",
              "      <th>count</th>\n",
              "      <td>616.000000</td>\n",
              "      <td>616.000000</td>\n",
              "      <td>616.000000</td>\n",
              "      <td>616.000000</td>\n",
              "      <td>616.000000</td>\n",
              "      <td>616.000000</td>\n",
              "      <td>616.000000</td>\n",
              "    </tr>\n",
              "    <tr>\n",
              "      <th>mean</th>\n",
              "      <td>6.655167</td>\n",
              "      <td>1.488136</td>\n",
              "      <td>2.500000</td>\n",
              "      <td>29.364007</td>\n",
              "      <td>1032.836334</td>\n",
              "      <td>288.173701</td>\n",
              "      <td>1.334416</td>\n",
              "    </tr>\n",
              "    <tr>\n",
              "      <th>std</th>\n",
              "      <td>3.003387</td>\n",
              "      <td>0.489594</td>\n",
              "      <td>1.118943</td>\n",
              "      <td>14.605947</td>\n",
              "      <td>630.037913</td>\n",
              "      <td>622.457710</td>\n",
              "      <td>0.683261</td>\n",
              "    </tr>\n",
              "    <tr>\n",
              "      <th>min</th>\n",
              "      <td>0.000000</td>\n",
              "      <td>1.000000</td>\n",
              "      <td>1.000000</td>\n",
              "      <td>-300.000000</td>\n",
              "      <td>1.000000</td>\n",
              "      <td>0.000000</td>\n",
              "      <td>1.000000</td>\n",
              "    </tr>\n",
              "    <tr>\n",
              "      <th>25%</th>\n",
              "      <td>5.500000</td>\n",
              "      <td>1.000000</td>\n",
              "      <td>1.750000</td>\n",
              "      <td>27.100000</td>\n",
              "      <td>490.500000</td>\n",
              "      <td>50.000000</td>\n",
              "      <td>1.000000</td>\n",
              "    </tr>\n",
              "    <tr>\n",
              "      <th>50%</th>\n",
              "      <td>6.500000</td>\n",
              "      <td>1.488136</td>\n",
              "      <td>2.500000</td>\n",
              "      <td>29.500000</td>\n",
              "      <td>995.500000</td>\n",
              "      <td>230.000000</td>\n",
              "      <td>1.000000</td>\n",
              "    </tr>\n",
              "    <tr>\n",
              "      <th>75%</th>\n",
              "      <td>7.525000</td>\n",
              "      <td>2.000000</td>\n",
              "      <td>3.250000</td>\n",
              "      <td>32.900000</td>\n",
              "      <td>1603.000000</td>\n",
              "      <td>429.500000</td>\n",
              "      <td>1.000000</td>\n",
              "    </tr>\n",
              "    <tr>\n",
              "      <th>max</th>\n",
              "      <td>14.000000</td>\n",
              "      <td>2.000000</td>\n",
              "      <td>4.000000</td>\n",
              "      <td>40.600000</td>\n",
              "      <td>2149.000000</td>\n",
              "      <td>12000.000000</td>\n",
              "      <td>4.000000</td>\n",
              "    </tr>\n",
              "  </tbody>\n",
              "</table>\n",
              "</div>"
            ],
            "text/plain": [
              "               PH      cahaya  ...    tinggi_air        aksi\n",
              "count  616.000000  616.000000  ...    616.000000  616.000000\n",
              "mean     6.655167    1.488136  ...    288.173701    1.334416\n",
              "std      3.003387    0.489594  ...    622.457710    0.683261\n",
              "min      0.000000    1.000000  ...      0.000000    1.000000\n",
              "25%      5.500000    1.000000  ...     50.000000    1.000000\n",
              "50%      6.500000    1.488136  ...    230.000000    1.000000\n",
              "75%      7.525000    2.000000  ...    429.500000    1.000000\n",
              "max     14.000000    2.000000  ...  12000.000000    4.000000\n",
              "\n",
              "[8 rows x 7 columns]"
            ]
          },
          "metadata": {},
          "execution_count": 484
        }
      ]
    },
    {
      "cell_type": "markdown",
      "metadata": {
        "id": "GELQ5uyda9Vw"
      },
      "source": [
        "## 4. Detect outliers dan handling (bisa dihapus atau diganti nilainya dengan mean/modus/median)"
      ]
    },
    {
      "cell_type": "code",
      "metadata": {
        "id": "ll-868ipa9Vx",
        "colab": {
          "base_uri": "https://localhost:8080/",
          "height": 485
        },
        "outputId": "53e02ec5-0c69-4ec9-ab36-50b7d1e1efc6"
      },
      "source": [
        "num_cols = ['PH', 'cahaya', 'intensitas_air', 'suhu', 'PPM', 'tinggi_air', 'aksi']\n",
        "plt.figure(figsize=(19,9))\n",
        "data[num_cols].boxplot()\n",
        "plt.title(\"Numerical variables in dataset\", fontsize=20)\n",
        "plt.show()"
      ],
      "execution_count": 485,
      "outputs": [
        {
          "output_type": "display_data",
          "data": {
            "image/png": "[encoded data removed]",
            "text/plain": [
              "<Figure size 1368x648 with 1 Axes>"
            ]
          },
          "metadata": {
            "needs_background": "light"
          }
        }
      ]
    },
    {
      "cell_type": "code",
      "metadata": {
        "id": "F6XQqB2XFNFL"
      },
      "source": [
        "def iqr(data):\n",
        "    iqr = data.describe()['75%'] - data.describe()['25%']\n",
        "    return iqr\n",
        "\n",
        "\n",
        "def lower_bound(data,iqr):\n",
        "    lower_bound = data.describe()['25%'] - (1.5*iqr)\n",
        "    return lower_bound\n",
        "\n",
        "\n",
        "def upper_bound(data,iqr):\n",
        "    upper_bound = data.describe()['75%'] + (1.5*iqr)\n",
        "    return upper_bound"
      ],
      "execution_count": 486,
      "outputs": []
    },
    {
      "cell_type": "code",
      "metadata": {
        "colab": {
          "base_uri": "https://localhost:8080/"
        },
        "id": "sW0ogXnCFiqp",
        "outputId": "87e65f0e-8db1-4b4e-9a82-3fa92f54bb13"
      },
      "source": [
        "iqr_PH = iqr(data['PH'])\n",
        "lower_PH = lower_bound(data['PH'],iqr_PH)\n",
        "upper_PH = upper_bound(data['PH'],iqr_PH)\n",
        "\n",
        "print('IQR PH: {0} ; Lower bound PH: {1} ; Upper bound PH: {2}'.format(iqr_PH,lower_PH,upper_PH))"
      ],
      "execution_count": 487,
      "outputs": [
        {
          "output_type": "stream",
          "name": "stdout",
          "text": [
            "IQR PH: 2.0250000000000004 ; Lower bound PH: 2.4624999999999995 ; Upper bound PH: 10.5625\n"
          ]
        }
      ]
    },
    {
      "cell_type": "code",
      "metadata": {
        "colab": {
          "base_uri": "https://localhost:8080/",
          "height": 564
        },
        "id": "8zu0M4XRDWJX",
        "outputId": "256f820f-0cf8-4fd5-814d-dff42c7fdbed"
      },
      "source": [
        "fig = plt.figure(figsize = (9,7))\n",
        "plt.boxplot(data['PH'])"
      ],
      "execution_count": 488,
      "outputs": [
        {
          "output_type": "execute_result",
          "data": {
            "text/plain": [
              "{'boxes': [<matplotlib.lines.Line2D at 0x7f67442a3650>],\n",
              " 'caps': [<matplotlib.lines.Line2D at 0x7f674432db10>,\n",
              "  <matplotlib.lines.Line2D at 0x7f674432d290>],\n",
              " 'fliers': [<matplotlib.lines.Line2D at 0x7f6745a04210>],\n",
              " 'means': [],\n",
              " 'medians': [<matplotlib.lines.Line2D at 0x7f674432ded0>],\n",
              " 'whiskers': [<matplotlib.lines.Line2D at 0x7f67442a3590>,\n",
              "  <matplotlib.lines.Line2D at 0x7f67442a38d0>]}"
            ]
          },
          "metadata": {},
          "execution_count": 488
        },
        {
          "output_type": "display_data",
          "data": {
            "image/png": "[encoded data removed]",
            "text/plain": [
              "<Figure size 648x504 with 1 Axes>"
            ]
          },
          "metadata": {
            "needs_background": "light"
          }
        }
      ]
    },
    {
      "cell_type": "code",
      "metadata": {
        "colab": {
          "base_uri": "https://localhost:8080/"
        },
        "id": "gxozvWGNEaUY",
        "outputId": "c644c10b-2ab1-4062-9bfa-07ab578612dd"
      },
      "source": [
        "Outlier_upper_PH = data.PH[data.PH >= upper_PH]\n",
        "Outlier_upper_PH"
      ],
      "execution_count": 489,
      "outputs": [
        {
          "output_type": "execute_result",
          "data": {
            "text/plain": [
              "50     10.7\n",
              "51     12.0\n",
              "53     11.8\n",
              "55     12.0\n",
              "59     12.1\n",
              "       ... \n",
              "544    12.3\n",
              "567    10.9\n",
              "568    10.9\n",
              "593    13.0\n",
              "595    12.7\n",
              "Name: PH, Length: 77, dtype: float64"
            ]
          },
          "metadata": {},
          "execution_count": 489
        }
      ]
    },
    {
      "cell_type": "code",
      "metadata": {
        "colab": {
          "base_uri": "https://localhost:8080/"
        },
        "id": "EBg4I0PyEjZY",
        "outputId": "9c684e29-ea21-4002-ccba-dca5d1451db9"
      },
      "source": [
        "Outlier_lower_PH = data.PH[data.PH <= lower_PH]\n",
        "Outlier_lower_PH"
      ],
      "execution_count": 490,
      "outputs": [
        {
          "output_type": "execute_result",
          "data": {
            "text/plain": [
              "33     0.2\n",
              "34     2.0\n",
              "36     1.1\n",
              "37     1.3\n",
              "48     2.2\n",
              "      ... \n",
              "586    2.3\n",
              "587    1.9\n",
              "610    0.2\n",
              "612    2.1\n",
              "614    1.4\n",
              "Name: PH, Length: 68, dtype: float64"
            ]
          },
          "metadata": {},
          "execution_count": 490
        }
      ]
    },
    {
      "cell_type": "code",
      "metadata": {
        "colab": {
          "base_uri": "https://localhost:8080/"
        },
        "id": "agVUVjJCbaoj",
        "outputId": "78453a05-409e-4a7f-eb36-4f35dcb5b1d9"
      },
      "source": [
        "iqr_cahaya = iqr(data['cahaya'])\n",
        "lower_cahaya = lower_bound(data['cahaya'],iqr_cahaya)\n",
        "upper_cahaya = upper_bound(data['cahaya'],iqr_cahaya)\n",
        "\n",
        "print('IQR cahaya: {0} ; Lower bound cahaya: {1} ; Upper bound cahaya: {2}'.format(iqr_cahaya,lower_cahaya,upper_cahaya))"
      ],
      "execution_count": 491,
      "outputs": [
        {
          "output_type": "stream",
          "name": "stdout",
          "text": [
            "IQR cahaya: 1.0 ; Lower bound cahaya: -0.5 ; Upper bound cahaya: 3.5\n"
          ]
        }
      ]
    },
    {
      "cell_type": "code",
      "metadata": {
        "colab": {
          "base_uri": "https://localhost:8080/",
          "height": 564
        },
        "id": "bsUvNioddK9e",
        "outputId": "685b7c0d-9877-4849-85c5-44b487127ddb"
      },
      "source": [
        "fig = plt.figure(figsize = (9,7))\n",
        "plt.boxplot(data['cahaya'])"
      ],
      "execution_count": 492,
      "outputs": [
        {
          "output_type": "execute_result",
          "data": {
            "text/plain": [
              "{'boxes': [<matplotlib.lines.Line2D at 0x7f674436c1d0>],\n",
              " 'caps': [<matplotlib.lines.Line2D at 0x7f67443a0d10>,\n",
              "  <matplotlib.lines.Line2D at 0x7f67459d2990>],\n",
              " 'fliers': [<matplotlib.lines.Line2D at 0x7f6744358150>],\n",
              " 'means': [],\n",
              " 'medians': [<matplotlib.lines.Line2D at 0x7f674434edd0>],\n",
              " 'whiskers': [<matplotlib.lines.Line2D at 0x7f67443a0a10>,\n",
              "  <matplotlib.lines.Line2D at 0x7f67443a0990>]}"
            ]
          },
          "metadata": {},
          "execution_count": 492
        },
        {
          "output_type": "display_data",
          "data": {
            "image/png": "[encoded data removed]",
            "text/plain": [
              "<Figure size 648x504 with 1 Axes>"
            ]
          },
          "metadata": {
            "needs_background": "light"
          }
        }
      ]
    },
    {
      "cell_type": "code",
      "metadata": {
        "colab": {
          "base_uri": "https://localhost:8080/"
        },
        "id": "BwXsPswsdQbM",
        "outputId": "16971a76-7056-4800-bd18-bece0019f778"
      },
      "source": [
        "Outlier_upper_cahaya = data.cahaya[data.cahaya >= upper_cahaya]\n",
        "Outlier_upper_cahaya"
      ],
      "execution_count": 493,
      "outputs": [
        {
          "output_type": "execute_result",
          "data": {
            "text/plain": [
              "Series([], Name: cahaya, dtype: float64)"
            ]
          },
          "metadata": {},
          "execution_count": 493
        }
      ]
    },
    {
      "cell_type": "code",
      "metadata": {
        "colab": {
          "base_uri": "https://localhost:8080/"
        },
        "id": "SHim_gmodXoT",
        "outputId": "4ed454df-814d-45bd-8477-0332fa382a41"
      },
      "source": [
        "Outlier_lower_cahaya = data.cahaya[data.cahaya <= lower_cahaya]\n",
        "Outlier_lower_cahaya"
      ],
      "execution_count": 494,
      "outputs": [
        {
          "output_type": "execute_result",
          "data": {
            "text/plain": [
              "Series([], Name: cahaya, dtype: float64)"
            ]
          },
          "metadata": {},
          "execution_count": 494
        }
      ]
    },
    {
      "cell_type": "code",
      "metadata": {
        "colab": {
          "base_uri": "https://localhost:8080/"
        },
        "id": "av5P7IhRdmXn",
        "outputId": "0199bbdd-1dad-412d-8bd6-aa8008f0d39d"
      },
      "source": [
        "iqr_intensitas_air = iqr(data['intensitas_air'])\n",
        "lower_intensitas_air = lower_bound(data['intensitas_air'],iqr_intensitas_air)\n",
        "upper_intensitas_air = upper_bound(data['intensitas_air'],iqr_intensitas_air)\n",
        "\n",
        "print('IQR intensitas_air: {0} ; Lower bound intensitas_air: {1} ; Upper bound intensitas_air: {2}'.format(iqr_intensitas_air,lower_intensitas_air,upper_intensitas_air))"
      ],
      "execution_count": 495,
      "outputs": [
        {
          "output_type": "stream",
          "name": "stdout",
          "text": [
            "IQR intensitas_air: 1.5 ; Lower bound intensitas_air: -0.5 ; Upper bound intensitas_air: 5.5\n"
          ]
        }
      ]
    },
    {
      "cell_type": "code",
      "metadata": {
        "colab": {
          "base_uri": "https://localhost:8080/",
          "height": 564
        },
        "id": "TWWjnn-ed-d1",
        "outputId": "8f9e3836-6950-4288-e9dc-dc7107381e45"
      },
      "source": [
        "fig = plt.figure(figsize = (9,7))\n",
        "plt.boxplot(data['intensitas_air'])"
      ],
      "execution_count": 496,
      "outputs": [
        {
          "output_type": "execute_result",
          "data": {
            "text/plain": [
              "{'boxes': [<matplotlib.lines.Line2D at 0x7f674445b710>],\n",
              " 'caps': [<matplotlib.lines.Line2D at 0x7f674fb3abd0>,\n",
              "  <matplotlib.lines.Line2D at 0x7f67443f97d0>],\n",
              " 'fliers': [<matplotlib.lines.Line2D at 0x7f67443f1f50>],\n",
              " 'means': [],\n",
              " 'medians': [<matplotlib.lines.Line2D at 0x7f67443f9fd0>],\n",
              " 'whiskers': [<matplotlib.lines.Line2D at 0x7f674445b890>,\n",
              "  <matplotlib.lines.Line2D at 0x7f6745971410>]}"
            ]
          },
          "metadata": {},
          "execution_count": 496
        },
        {
          "output_type": "display_data",
          "data": {
            "image/png": "[encoded data removed]",
            "text/plain": [
              "<Figure size 648x504 with 1 Axes>"
            ]
          },
          "metadata": {
            "needs_background": "light"
          }
        }
      ]
    },
    {
      "cell_type": "code",
      "metadata": {
        "colab": {
          "base_uri": "https://localhost:8080/"
        },
        "id": "cnhNYJD4eJSC",
        "outputId": "9f60740c-29d2-4ab8-e71b-638fe2ac27fe"
      },
      "source": [
        "Outlier_upper_intensitas_air = data.intensitas_air[data.intensitas_air >= upper_intensitas_air]\n",
        "Outlier_upper_intensitas_air"
      ],
      "execution_count": 497,
      "outputs": [
        {
          "output_type": "execute_result",
          "data": {
            "text/plain": [
              "Series([], Name: intensitas_air, dtype: int64)"
            ]
          },
          "metadata": {},
          "execution_count": 497
        }
      ]
    },
    {
      "cell_type": "code",
      "metadata": {
        "colab": {
          "base_uri": "https://localhost:8080/"
        },
        "id": "HEkqIreIePgE",
        "outputId": "ce68f675-5c4e-45ba-e5b4-2a2dada644bc"
      },
      "source": [
        "Outlier_lower_intensitas_air = data.intensitas_air[data.intensitas_air <= lower_intensitas_air]\n",
        "Outlier_lower_intensitas_air"
      ],
      "execution_count": 498,
      "outputs": [
        {
          "output_type": "execute_result",
          "data": {
            "text/plain": [
              "Series([], Name: intensitas_air, dtype: int64)"
            ]
          },
          "metadata": {},
          "execution_count": 498
        }
      ]
    },
    {
      "cell_type": "code",
      "metadata": {
        "colab": {
          "base_uri": "https://localhost:8080/"
        },
        "id": "1MDbXxzaAnch",
        "outputId": "d173f218-7aeb-4106-84bc-b682cba5ef86"
      },
      "source": [
        "iqr_suhu = iqr(data['suhu'])\n",
        "lower_suhu = lower_bound(data['suhu'],iqr_suhu)\n",
        "upper_suhu = upper_bound(data['suhu'],iqr_suhu)\n",
        "\n",
        "print('IQR suhu: {0} ; Lower bound suhu: {1} ; Upper bound suhu: {2}'.format(iqr_suhu,lower_suhu,upper_suhu))"
      ],
      "execution_count": 499,
      "outputs": [
        {
          "output_type": "stream",
          "name": "stdout",
          "text": [
            "IQR suhu: 5.799999999999997 ; Lower bound suhu: 18.400000000000006 ; Upper bound suhu: 41.599999999999994\n"
          ]
        }
      ]
    },
    {
      "cell_type": "code",
      "metadata": {
        "colab": {
          "base_uri": "https://localhost:8080/",
          "height": 564
        },
        "id": "rAbY_YwgegCE",
        "outputId": "5230b3da-fe9c-4264-c18e-e8dc4d295ce2"
      },
      "source": [
        "fig = plt.figure(figsize = (9,7))\n",
        "plt.boxplot(data['suhu'])"
      ],
      "execution_count": 500,
      "outputs": [
        {
          "output_type": "execute_result",
          "data": {
            "text/plain": [
              "{'boxes': [<matplotlib.lines.Line2D at 0x7f67443c0e90>],\n",
              " 'caps': [<matplotlib.lines.Line2D at 0x7f67444292d0>,\n",
              "  <matplotlib.lines.Line2D at 0x7f6744429f90>],\n",
              " 'fliers': [<matplotlib.lines.Line2D at 0x7f6744433610>],\n",
              " 'means': [],\n",
              " 'medians': [<matplotlib.lines.Line2D at 0x7f6744429390>],\n",
              " 'whiskers': [<matplotlib.lines.Line2D at 0x7f67443c0a10>,\n",
              "  <matplotlib.lines.Line2D at 0x7f67443c0990>]}"
            ]
          },
          "metadata": {},
          "execution_count": 500
        },
        {
          "output_type": "display_data",
          "data": {
            "image/png": "[encoded data removed]",
            "text/plain": [
              "<Figure size 648x504 with 1 Axes>"
            ]
          },
          "metadata": {
            "needs_background": "light"
          }
        }
      ]
    },
    {
      "cell_type": "code",
      "metadata": {
        "colab": {
          "base_uri": "https://localhost:8080/"
        },
        "id": "bhpIUfllfBy7",
        "outputId": "739140ae-454f-4352-a997-9330bfa3fe6f"
      },
      "source": [
        "Outlier_upper_suhu = data.suhu[data.suhu >= upper_suhu]\n",
        "Outlier_upper_suhu"
      ],
      "execution_count": 501,
      "outputs": [
        {
          "output_type": "execute_result",
          "data": {
            "text/plain": [
              "Series([], Name: suhu, dtype: float64)"
            ]
          },
          "metadata": {},
          "execution_count": 501
        }
      ]
    },
    {
      "cell_type": "code",
      "metadata": {
        "colab": {
          "base_uri": "https://localhost:8080/"
        },
        "id": "Hr0HfW74FCwa",
        "outputId": "d6f56270-dc03-4d88-b090-7d2c1da56e04"
      },
      "source": [
        "Outlier_lower_suhu = data.suhu[data.suhu <= lower_suhu]\n",
        "Outlier_lower_suhu"
      ],
      "execution_count": 502,
      "outputs": [
        {
          "output_type": "execute_result",
          "data": {
            "text/plain": [
              "109   -300.0\n",
              "118   -100.0\n",
              "Name: suhu, dtype: float64"
            ]
          },
          "metadata": {},
          "execution_count": 502
        }
      ]
    },
    {
      "cell_type": "code",
      "metadata": {
        "colab": {
          "base_uri": "https://localhost:8080/"
        },
        "id": "uCLd-TpZfR1q",
        "outputId": "6f5c8785-eb8c-48a4-f1cd-7b872cd7da72"
      },
      "source": [
        "iqr_PPM = iqr(data['PPM'])\n",
        "lower_PPM = lower_bound(data['PPM'],iqr_PPM)\n",
        "upper_PPM = upper_bound(data['PPM'],iqr_PPM)\n",
        "\n",
        "print('IQR PPM: {0} ; Lower bound PPM: {1} ; Upper bound PPM: {2}'.format(iqr_PPM,lower_PPM,upper_PPM))"
      ],
      "execution_count": 503,
      "outputs": [
        {
          "output_type": "stream",
          "name": "stdout",
          "text": [
            "IQR PPM: 1112.5 ; Lower bound PPM: -1178.25 ; Upper bound PPM: 3271.75\n"
          ]
        }
      ]
    },
    {
      "cell_type": "code",
      "metadata": {
        "colab": {
          "base_uri": "https://localhost:8080/",
          "height": 564
        },
        "id": "diL85WyKiOzA",
        "outputId": "700393d9-e975-49d6-9331-49306b9d1e8f"
      },
      "source": [
        "fig = plt.figure(figsize = (9,7))\n",
        "plt.boxplot(data['PPM'])"
      ],
      "execution_count": 504,
      "outputs": [
        {
          "output_type": "execute_result",
          "data": {
            "text/plain": [
              "{'boxes': [<matplotlib.lines.Line2D at 0x7f6744c00fd0>],\n",
              " 'caps': [<matplotlib.lines.Line2D at 0x7f67500e0350>,\n",
              "  <matplotlib.lines.Line2D at 0x7f6744827fd0>],\n",
              " 'fliers': [<matplotlib.lines.Line2D at 0x7f6745b61490>],\n",
              " 'means': [],\n",
              " 'medians': [<matplotlib.lines.Line2D at 0x7f67450d2850>],\n",
              " 'whiskers': [<matplotlib.lines.Line2D at 0x7f67446ea2d0>,\n",
              "  <matplotlib.lines.Line2D at 0x7f6750105110>]}"
            ]
          },
          "metadata": {},
          "execution_count": 504
        },
        {
          "output_type": "display_data",
          "data": {
            "image/png": "[encoded data removed]",
            "text/plain": [
              "<Figure size 648x504 with 1 Axes>"
            ]
          },
          "metadata": {
            "needs_background": "light"
          }
        }
      ]
    },
    {
      "cell_type": "code",
      "metadata": {
        "colab": {
          "base_uri": "https://localhost:8080/"
        },
        "id": "Ssa0i9KSfhNw",
        "outputId": "7358af5e-70c9-465d-ee90-3b0fbcb143f1"
      },
      "source": [
        "Outlier_upper_PPM = data.PPM[data.PPM >= upper_PPM]\n",
        "Outlier_upper_PPM"
      ],
      "execution_count": 505,
      "outputs": [
        {
          "output_type": "execute_result",
          "data": {
            "text/plain": [
              "Series([], Name: PPM, dtype: float64)"
            ]
          },
          "metadata": {},
          "execution_count": 505
        }
      ]
    },
    {
      "cell_type": "code",
      "metadata": {
        "colab": {
          "base_uri": "https://localhost:8080/"
        },
        "id": "jJxCNBnCfo_O",
        "outputId": "490ddf1c-1eb4-4d81-e209-93fa1a7804bc"
      },
      "source": [
        "Outlier_lower_PPM = data.PPM[data.PPM <= lower_PPM]\n",
        "Outlier_lower_PPM"
      ],
      "execution_count": 506,
      "outputs": [
        {
          "output_type": "execute_result",
          "data": {
            "text/plain": [
              "Series([], Name: PPM, dtype: float64)"
            ]
          },
          "metadata": {},
          "execution_count": 506
        }
      ]
    },
    {
      "cell_type": "code",
      "metadata": {
        "colab": {
          "base_uri": "https://localhost:8080/"
        },
        "id": "fN5skQR5gps4",
        "outputId": "7e489f0d-b6ff-4a58-f348-fa9b6b8c6e36"
      },
      "source": [
        "iqr_tinggi_air = iqr(data['tinggi_air'])\n",
        "lower_tinggi_air = lower_bound(data['tinggi_air'],iqr_tinggi_air)\n",
        "upper_tinggi_air = upper_bound(data['tinggi_air'],iqr_tinggi_air)\n",
        "\n",
        "print('IQR tinggi_air: {0} ; Lower bound tinggi_air: {1} ; Upper bound tinggi_air: {2}'.format(iqr_tinggi_air,lower_tinggi_air,upper_tinggi_air))"
      ],
      "execution_count": 507,
      "outputs": [
        {
          "output_type": "stream",
          "name": "stdout",
          "text": [
            "IQR tinggi_air: 379.5 ; Lower bound tinggi_air: -519.25 ; Upper bound tinggi_air: 998.75\n"
          ]
        }
      ]
    },
    {
      "cell_type": "code",
      "metadata": {
        "colab": {
          "base_uri": "https://localhost:8080/",
          "height": 564
        },
        "id": "F2B3zXjriQuS",
        "outputId": "b1518c18-9313-43c4-effd-2e8910fd7d4e"
      },
      "source": [
        "fig = plt.figure(figsize = (9,7))\n",
        "plt.boxplot(data['tinggi_air'])"
      ],
      "execution_count": 508,
      "outputs": [
        {
          "output_type": "execute_result",
          "data": {
            "text/plain": [
              "{'boxes': [<matplotlib.lines.Line2D at 0x7f674404f890>],\n",
              " 'caps': [<matplotlib.lines.Line2D at 0x7f674407d310>,\n",
              "  <matplotlib.lines.Line2D at 0x7f674407d1d0>],\n",
              " 'fliers': [<matplotlib.lines.Line2D at 0x7f6744438f90>],\n",
              " 'means': [],\n",
              " 'medians': [<matplotlib.lines.Line2D at 0x7f6744438e10>],\n",
              " 'whiskers': [<matplotlib.lines.Line2D at 0x7f674404f5d0>,\n",
              "  <matplotlib.lines.Line2D at 0x7f674407de10>]}"
            ]
          },
          "metadata": {},
          "execution_count": 508
        },
        {
          "output_type": "display_data",
          "data": {
            "image/png": "[encoded data removed]",
            "text/plain": [
              "<Figure size 648x504 with 1 Axes>"
            ]
          },
          "metadata": {
            "needs_background": "light"
          }
        }
      ]
    },
    {
      "cell_type": "code",
      "metadata": {
        "colab": {
          "base_uri": "https://localhost:8080/"
        },
        "id": "YZQUHAcqgw0f",
        "outputId": "78bd719f-b20a-46a7-cd50-b3e360409029"
      },
      "source": [
        "Outlier_upper_tinggi_air = data.tinggi_air[data.tinggi_air >= upper_tinggi_air]\n",
        "Outlier_upper_tinggi_air"
      ],
      "execution_count": 509,
      "outputs": [
        {
          "output_type": "execute_result",
          "data": {
            "text/plain": [
              "3     12000\n",
              "77     9000\n",
              "Name: tinggi_air, dtype: int64"
            ]
          },
          "metadata": {},
          "execution_count": 509
        }
      ]
    },
    {
      "cell_type": "code",
      "metadata": {
        "colab": {
          "base_uri": "https://localhost:8080/"
        },
        "id": "wnUkJdUPgyQS",
        "outputId": "11c2c3a2-f27e-44e3-8188-dc4cb804edb3"
      },
      "source": [
        "Outlier_lower_tinggi_air = data.tinggi_air[data.tinggi_air <= lower_tinggi_air]\n",
        "Outlier_lower_tinggi_air"
      ],
      "execution_count": 510,
      "outputs": [
        {
          "output_type": "execute_result",
          "data": {
            "text/plain": [
              "Series([], Name: tinggi_air, dtype: int64)"
            ]
          },
          "metadata": {},
          "execution_count": 510
        }
      ]
    },
    {
      "cell_type": "code",
      "metadata": {
        "colab": {
          "base_uri": "https://localhost:8080/"
        },
        "id": "jrvvyJAihisT",
        "outputId": "8bd3b8b5-d375-45b2-88e7-87cb237e1f01"
      },
      "source": [
        "iqr_aksi = iqr(data['aksi'])\n",
        "lower_aksi = lower_bound(data['aksi'],iqr_aksi)\n",
        "upper_aksi = upper_bound(data['aksi'],iqr_aksi)\n",
        "\n",
        "print('IQR aksi: {0} ; Lower bound aksi: {1} ; Upper bound aksi: {2}'.format(iqr_aksi,lower_aksi,upper_aksi))"
      ],
      "execution_count": 511,
      "outputs": [
        {
          "output_type": "stream",
          "name": "stdout",
          "text": [
            "IQR aksi: 0.0 ; Lower bound aksi: 1.0 ; Upper bound aksi: 1.0\n"
          ]
        }
      ]
    },
    {
      "cell_type": "code",
      "metadata": {
        "colab": {
          "base_uri": "https://localhost:8080/",
          "height": 564
        },
        "id": "OcnNlU7giS8Z",
        "outputId": "9a030e2f-a85c-495f-f9fb-29c0b203610c"
      },
      "source": [
        "fig = plt.figure(figsize = (9,7))\n",
        "plt.boxplot(data['aksi'])"
      ],
      "execution_count": 512,
      "outputs": [
        {
          "output_type": "execute_result",
          "data": {
            "text/plain": [
              "{'boxes': [<matplotlib.lines.Line2D at 0x7f6744259d50>],\n",
              " 'caps': [<matplotlib.lines.Line2D at 0x7f674420a810>,\n",
              "  <matplotlib.lines.Line2D at 0x7f674420ab10>],\n",
              " 'fliers': [<matplotlib.lines.Line2D at 0x7f67442894d0>],\n",
              " 'means': [],\n",
              " 'medians': [<matplotlib.lines.Line2D at 0x7f6744289d90>],\n",
              " 'whiskers': [<matplotlib.lines.Line2D at 0x7f6744259750>,\n",
              "  <matplotlib.lines.Line2D at 0x7f674420a690>]}"
            ]
          },
          "metadata": {},
          "execution_count": 512
        },
        {
          "output_type": "display_data",
          "data": {
            "image/png": "[encoded data removed]",
            "text/plain": [
              "<Figure size 648x504 with 1 Axes>"
            ]
          },
          "metadata": {
            "needs_background": "light"
          }
        }
      ]
    },
    {
      "cell_type": "code",
      "metadata": {
        "colab": {
          "base_uri": "https://localhost:8080/"
        },
        "id": "BximGrc4hkgB",
        "outputId": "5d7cc7c5-2456-4a94-fc81-979695e471f1"
      },
      "source": [
        "Outlier_upper_aksi = data.aksi[data.aksi >= upper_aksi]\n",
        "Outlier_upper_aksi"
      ],
      "execution_count": 513,
      "outputs": [
        {
          "output_type": "execute_result",
          "data": {
            "text/plain": [
              "0      3\n",
              "1      3\n",
              "2      3\n",
              "3      1\n",
              "4      1\n",
              "      ..\n",
              "611    2\n",
              "612    3\n",
              "613    2\n",
              "614    2\n",
              "615    2\n",
              "Name: aksi, Length: 616, dtype: int64"
            ]
          },
          "metadata": {},
          "execution_count": 513
        }
      ]
    },
    {
      "cell_type": "code",
      "metadata": {
        "colab": {
          "base_uri": "https://localhost:8080/"
        },
        "id": "9F0Pb2prhmBX",
        "outputId": "4c2c3042-a80b-4c2d-8579-4f65f811711b"
      },
      "source": [
        "Outlier_lower_aksi = data.aksi[data.aksi <= lower_aksi]\n",
        "Outlier_lower_aksi"
      ],
      "execution_count": 514,
      "outputs": [
        {
          "output_type": "execute_result",
          "data": {
            "text/plain": [
              "3      1\n",
              "4      1\n",
              "8      1\n",
              "33     1\n",
              "39     1\n",
              "      ..\n",
              "569    1\n",
              "570    1\n",
              "574    1\n",
              "575    1\n",
              "579    1\n",
              "Name: aksi, Length: 473, dtype: int64"
            ]
          },
          "metadata": {},
          "execution_count": 514
        }
      ]
    },
    {
      "cell_type": "markdown",
      "metadata": {
        "id": "EFQ0YfYLa9Vy"
      },
      "source": [
        "## 5. Pisahkan data feature dengan label"
      ]
    },
    {
      "cell_type": "code",
      "metadata": {
        "id": "Jjxt06KTa9Vy",
        "colab": {
          "base_uri": "https://localhost:8080/",
          "height": 419
        },
        "outputId": "fcb6ef42-529b-4b1e-e368-4458c5bbaaea"
      },
      "source": [
        "#Data Feature\n",
        "X = data.iloc[:, :6]\n",
        "X"
      ],
      "execution_count": 515,
      "outputs": [
        {
          "output_type": "execute_result",
          "data": {
            "text/html": [
              "<div>\n",
              "<style scoped>\n",
              "    .dataframe tbody tr th:only-of-type {\n",
              "        vertical-align: middle;\n",
              "    }\n",
              "\n",
              "    .dataframe tbody tr th {\n",
              "        vertical-align: top;\n",
              "    }\n",
              "\n",
              "    .dataframe thead th {\n",
              "        text-align: right;\n",
              "    }\n",
              "</style>\n",
              "<table border=\"1\" class=\"dataframe\">\n",
              "  <thead>\n",
              "    <tr style=\"text-align: right;\">\n",
              "      <th></th>\n",
              "      <th>PH</th>\n",
              "      <th>cahaya</th>\n",
              "      <th>intensitas_air</th>\n",
              "      <th>suhu</th>\n",
              "      <th>PPM</th>\n",
              "      <th>tinggi_air</th>\n",
              "    </tr>\n",
              "  </thead>\n",
              "  <tbody>\n",
              "    <tr>\n",
              "      <th>0</th>\n",
              "      <td>6.5</td>\n",
              "      <td>1.000000</td>\n",
              "      <td>4</td>\n",
              "      <td>27.0</td>\n",
              "      <td>188.0</td>\n",
              "      <td>622</td>\n",
              "    </tr>\n",
              "    <tr>\n",
              "      <th>1</th>\n",
              "      <td>5.7</td>\n",
              "      <td>1.000000</td>\n",
              "      <td>4</td>\n",
              "      <td>26.9</td>\n",
              "      <td>79.0</td>\n",
              "      <td>557</td>\n",
              "    </tr>\n",
              "    <tr>\n",
              "      <th>2</th>\n",
              "      <td>6.0</td>\n",
              "      <td>1.000000</td>\n",
              "      <td>4</td>\n",
              "      <td>27.0</td>\n",
              "      <td>11.0</td>\n",
              "      <td>491</td>\n",
              "    </tr>\n",
              "    <tr>\n",
              "      <th>3</th>\n",
              "      <td>6.5</td>\n",
              "      <td>1.000000</td>\n",
              "      <td>4</td>\n",
              "      <td>27.1</td>\n",
              "      <td>345.0</td>\n",
              "      <td>12000</td>\n",
              "    </tr>\n",
              "    <tr>\n",
              "      <th>4</th>\n",
              "      <td>6.2</td>\n",
              "      <td>1.488136</td>\n",
              "      <td>4</td>\n",
              "      <td>27.1</td>\n",
              "      <td>602.0</td>\n",
              "      <td>444</td>\n",
              "    </tr>\n",
              "    <tr>\n",
              "      <th>...</th>\n",
              "      <td>...</td>\n",
              "      <td>...</td>\n",
              "      <td>...</td>\n",
              "      <td>...</td>\n",
              "      <td>...</td>\n",
              "      <td>...</td>\n",
              "    </tr>\n",
              "    <tr>\n",
              "      <th>611</th>\n",
              "      <td>4.6</td>\n",
              "      <td>1.000000</td>\n",
              "      <td>1</td>\n",
              "      <td>25.3</td>\n",
              "      <td>904.0</td>\n",
              "      <td>47</td>\n",
              "    </tr>\n",
              "    <tr>\n",
              "      <th>612</th>\n",
              "      <td>2.1</td>\n",
              "      <td>1.000000</td>\n",
              "      <td>1</td>\n",
              "      <td>25.0</td>\n",
              "      <td>388.0</td>\n",
              "      <td>18</td>\n",
              "    </tr>\n",
              "    <tr>\n",
              "      <th>613</th>\n",
              "      <td>3.2</td>\n",
              "      <td>1.000000</td>\n",
              "      <td>1</td>\n",
              "      <td>25.3</td>\n",
              "      <td>793.0</td>\n",
              "      <td>19</td>\n",
              "    </tr>\n",
              "    <tr>\n",
              "      <th>614</th>\n",
              "      <td>1.4</td>\n",
              "      <td>1.000000</td>\n",
              "      <td>1</td>\n",
              "      <td>25.4</td>\n",
              "      <td>1052.0</td>\n",
              "      <td>3</td>\n",
              "    </tr>\n",
              "    <tr>\n",
              "      <th>615</th>\n",
              "      <td>5.0</td>\n",
              "      <td>1.000000</td>\n",
              "      <td>1</td>\n",
              "      <td>25.3</td>\n",
              "      <td>977.0</td>\n",
              "      <td>19</td>\n",
              "    </tr>\n",
              "  </tbody>\n",
              "</table>\n",
              "<p>616 rows × 6 columns</p>\n",
              "</div>"
            ],
            "text/plain": [
              "      PH    cahaya  intensitas_air  suhu     PPM  tinggi_air\n",
              "0    6.5  1.000000               4  27.0   188.0         622\n",
              "1    5.7  1.000000               4  26.9    79.0         557\n",
              "2    6.0  1.000000               4  27.0    11.0         491\n",
              "3    6.5  1.000000               4  27.1   345.0       12000\n",
              "4    6.2  1.488136               4  27.1   602.0         444\n",
              "..   ...       ...             ...   ...     ...         ...\n",
              "611  4.6  1.000000               1  25.3   904.0          47\n",
              "612  2.1  1.000000               1  25.0   388.0          18\n",
              "613  3.2  1.000000               1  25.3   793.0          19\n",
              "614  1.4  1.000000               1  25.4  1052.0           3\n",
              "615  5.0  1.000000               1  25.3   977.0          19\n",
              "\n",
              "[616 rows x 6 columns]"
            ]
          },
          "metadata": {},
          "execution_count": 515
        }
      ]
    },
    {
      "cell_type": "code",
      "metadata": {
        "colab": {
          "base_uri": "https://localhost:8080/"
        },
        "id": "Z2DUaT7AkPtb",
        "outputId": "74b81cae-9241-4f1b-a867-1986b57c8760"
      },
      "source": [
        "#Label\n",
        "Y = data.iloc[:, 6]\n",
        "Y"
      ],
      "execution_count": 516,
      "outputs": [
        {
          "output_type": "execute_result",
          "data": {
            "text/plain": [
              "0      3\n",
              "1      3\n",
              "2      3\n",
              "3      1\n",
              "4      1\n",
              "      ..\n",
              "611    2\n",
              "612    3\n",
              "613    2\n",
              "614    2\n",
              "615    2\n",
              "Name: aksi, Length: 616, dtype: int64"
            ]
          },
          "metadata": {},
          "execution_count": 516
        }
      ]
    },
    {
      "cell_type": "markdown",
      "metadata": {
        "id": "YCGKwPFra9Vz"
      },
      "source": [
        "## 6. Check Imbalanced Dataset, jika imbalanced, gunakan smote"
      ]
    },
    {
      "cell_type": "code",
      "metadata": {
        "id": "5YI-izdXa9V0",
        "colab": {
          "base_uri": "https://localhost:8080/"
        },
        "outputId": "24c7a031-4016-4a00-c8b6-26f255929f0c"
      },
      "source": [
        "!pip install imbalanced-learn"
      ],
      "execution_count": 517,
      "outputs": [
        {
          "output_type": "stream",
          "name": "stdout",
          "text": [
            "Requirement already satisfied: imbalanced-learn in /usr/local/lib/python3.7/dist-packages (0.4.3)\n",
            "Requirement already satisfied: scikit-learn>=0.20 in /usr/local/lib/python3.7/dist-packages (from imbalanced-learn) (0.22.2.post1)\n",
            "Requirement already satisfied: scipy>=0.13.3 in /usr/local/lib/python3.7/dist-packages (from imbalanced-learn) (1.4.1)\n",
            "Requirement already satisfied: numpy>=1.8.2 in /usr/local/lib/python3.7/dist-packages (from imbalanced-learn) (1.19.5)\n",
            "Requirement already satisfied: joblib>=0.11 in /usr/local/lib/python3.7/dist-packages (from scikit-learn>=0.20->imbalanced-learn) (1.0.1)\n"
          ]
        }
      ]
    },
    {
      "cell_type": "code",
      "metadata": {
        "id": "DIfkA5_da9V0",
        "colab": {
          "base_uri": "https://localhost:8080/"
        },
        "outputId": "92dfd87f-162d-40d5-b783-581511d7a0d9"
      },
      "source": [
        "counter = Counter(Y)\n",
        "print(counter)"
      ],
      "execution_count": 518,
      "outputs": [
        {
          "output_type": "stream",
          "name": "stdout",
          "text": [
            "Counter({1: 473, 2: 92, 3: 39, 4: 12})\n"
          ]
        }
      ]
    },
    {
      "cell_type": "code",
      "metadata": {
        "id": "sgodmtN82qm2"
      },
      "source": [
        "from imblearn.over_sampling import SMOTE\n",
        "oversample = SMOTE(k_neighbors=5)\n",
        "X_smote, Y_smote = oversample.fit_resample(X, Y)"
      ],
      "execution_count": 519,
      "outputs": []
    },
    {
      "cell_type": "code",
      "metadata": {
        "colab": {
          "base_uri": "https://localhost:8080/"
        },
        "id": "aYo1o0a62t-j",
        "outputId": "d655b56f-db6e-4133-e0d0-7f2f29a6f247"
      },
      "source": [
        "counter = Counter(Y_smote)\n",
        "print(counter)"
      ],
      "execution_count": 520,
      "outputs": [
        {
          "output_type": "stream",
          "name": "stdout",
          "text": [
            "Counter({3: 473, 1: 473, 2: 473, 4: 473})\n"
          ]
        }
      ]
    },
    {
      "cell_type": "markdown",
      "metadata": {
        "id": "2gLiWKVza9V1"
      },
      "source": [
        "## 7. Visualisasikan Data sehingga kita bisa mengetahui sebuah informasi"
      ]
    },
    {
      "cell_type": "code",
      "metadata": {
        "colab": {
          "base_uri": "https://localhost:8080/",
          "height": 337
        },
        "id": "VbqMp7wh4D5j",
        "outputId": "e73c4085-8e62-450c-84fa-5240773da64b"
      },
      "source": [
        "data[['PH', 'cahaya', 'intensitas_air', 'suhu', 'PPM', 'tinggi_air', 'aksi']].plot.hist(bins=200,figsize=(3,5),alpha=1)"
      ],
      "execution_count": 521,
      "outputs": [
        {
          "output_type": "execute_result",
          "data": {
            "text/plain": [
              "<matplotlib.axes._subplots.AxesSubplot at 0x7f674fc24e10>"
            ]
          },
          "metadata": {},
          "execution_count": 521
        },
        {
          "output_type": "display_data",
          "data": {
            "image/png": "[encoded data removed]",
            "text/plain": [
              "<Figure size 216x360 with 1 Axes>"
            ]
          },
          "metadata": {
            "needs_background": "light"
          }
        }
      ]
    },
    {
      "cell_type": "code",
      "metadata": {
        "id": "hJMzN-gMa9V2",
        "colab": {
          "base_uri": "https://localhost:8080/",
          "height": 823
        },
        "outputId": "2312cdea-e6f7-412b-d219-573508267471"
      },
      "source": [
        "data.hist(figsize=(30,20), bins=100, color=\"black\", grid=False, alpha=0.5)"
      ],
      "execution_count": 522,
      "outputs": [
        {
          "output_type": "execute_result",
          "data": {
            "text/plain": [
              "array([[<matplotlib.axes._subplots.AxesSubplot object at 0x7f67443bdad0>,\n",
              "        <matplotlib.axes._subplots.AxesSubplot object at 0x7f674188e150>,\n",
              "        <matplotlib.axes._subplots.AxesSubplot object at 0x7f6741852610>],\n",
              "       [<matplotlib.axes._subplots.AxesSubplot object at 0x7f6741866b90>,\n",
              "        <matplotlib.axes._subplots.AxesSubplot object at 0x7f673f5cf150>,\n",
              "        <matplotlib.axes._subplots.AxesSubplot object at 0x7f673f5ed6d0>],\n",
              "       [<matplotlib.axes._subplots.AxesSubplot object at 0x7f674195fcd0>,\n",
              "        <matplotlib.axes._subplots.AxesSubplot object at 0x7f673f5661d0>,\n",
              "        <matplotlib.axes._subplots.AxesSubplot object at 0x7f673f566210>]],\n",
              "      dtype=object)"
            ]
          },
          "metadata": {},
          "execution_count": 522
        },
        {
          "output_type": "display_data",
          "data": {
            "image/png": "[encoded data removed]",
            "text/plain": [
              "<Figure size 2160x1440 with 9 Axes>"
            ]
          },
          "metadata": {
            "needs_background": "light"
          }
        }
      ]
    },
    {
      "cell_type": "markdown",
      "metadata": {
        "id": "byMOPkmra9V2"
      },
      "source": [
        "## 8. Lakukan Normalization menggunakan MinMaxScaler atau Standardization menggunakan StandarScaler"
      ]
    },
    {
      "cell_type": "code",
      "metadata": {
        "id": "i0XxulQra9V3",
        "colab": {
          "base_uri": "https://localhost:8080/"
        },
        "outputId": "2e4b2a38-ce63-4bdf-e4a5-a6a0f463d965"
      },
      "source": [
        "from sklearn.preprocessing import MinMaxScaler\n",
        "\n",
        "scaler =  MinMaxScaler()\n",
        "# transform data\n",
        "X_scaled = scaler.fit_transform(X_smote)\n",
        "print(X_scaled)\n",
        "print(len(X_scaled), len(X_smote))"
      ],
      "execution_count": 523,
      "outputs": [
        {
          "output_type": "stream",
          "name": "stdout",
          "text": [
            "[[0.46428571 0.         1.         0.96007046 0.08705773 0.05183333]\n",
            " [0.40714286 0.         1.         0.95977686 0.03631285 0.04641667]\n",
            " [0.42857143 0.         1.         0.96007046 0.00465549 0.04091667]\n",
            " ...\n",
            " [0.90496105 1.         1.         0.95840401 0.06466814 0.03518904]\n",
            " [0.73624429 1.         1.         0.95653015 0.03403609 0.03320495]\n",
            " [0.90317976 1.         1.         0.95974419 0.23840552 0.0430877 ]]\n",
            "1892 1892\n"
          ]
        }
      ]
    },
    {
      "cell_type": "code",
      "metadata": {
        "colab": {
          "base_uri": "https://localhost:8080/"
        },
        "id": "MuXTdK2DS_4g",
        "outputId": "d2ece1d3-d503-40c2-8720-c3ee7fec111f"
      },
      "source": [
        "from sklearn import preprocessing\n",
        "\n",
        "standard_scaler = preprocessing.StandardScaler()\n",
        "X_std = preprocessing.StandardScaler().fit(X_smote).transform(X_smote.astype(float))\n",
        "print(X_std)\n",
        "print(len(X_std), len(X_smote), len(Y_smote))"
      ],
      "execution_count": 524,
      "outputs": [
        {
          "output_type": "stream",
          "name": "stdout",
          "text": [
            "[[-0.4362345  -0.83781987  1.14112437 -0.06723406 -0.88305601  0.77838482]\n",
            " [-0.72159003 -0.83781987  1.14112437 -0.07909847 -1.0600947   0.60989545]\n",
            " [-0.6145817  -0.83781987  1.14112437 -0.06723406 -1.17054086  0.43881394]\n",
            " ...\n",
            " [ 1.76437553  1.22375223  1.14112437 -0.13457568 -0.96116879  0.26065186]\n",
            " [ 0.92185096  1.22375223  1.14112437 -0.21029872 -1.06803784  0.19893527]\n",
            " [ 1.75548027  1.22375223  1.14112437 -0.08041888 -0.35503396  0.50634551]]\n",
            "1892 1892 1892\n"
          ]
        }
      ]
    },
    {
      "cell_type": "markdown",
      "metadata": {
        "id": "FJpwBxZfa9V3"
      },
      "source": [
        "## 9. Buat model ANN"
      ]
    },
    {
      "cell_type": "code",
      "metadata": {
        "id": "1Zo0ODA8a9V4"
      },
      "source": [
        "from tensorflow.keras.layers import Dense, Dropout, BatchNormalization\n",
        "from tensorflow.keras import Sequential\n",
        "from sklearn.preprocessing import LabelEncoder\n",
        "from sklearn.model_selection import train_test_split"
      ],
      "execution_count": 525,
      "outputs": []
    },
    {
      "cell_type": "code",
      "metadata": {
        "colab": {
          "base_uri": "https://localhost:8080/"
        },
        "id": "_TNxujmXzNHw",
        "outputId": "ad73b9d4-6d82-4437-d80f-baf3cd7700a1"
      },
      "source": [
        "y = LabelEncoder().fit_transform(Y_smote)\n",
        "\n",
        "X_train, X_test, y_train, y_test = train_test_split(X_std, y, test_size=0.2, random_state=42)\n",
        "print(X_train.shape, X_test.shape, y_train.shape, y_test.shape)\n",
        "\n",
        "n_features = X_train.shape[1]\n",
        "print(n_features)"
      ],
      "execution_count": 526,
      "outputs": [
        {
          "output_type": "stream",
          "name": "stdout",
          "text": [
            "(1513, 6) (379, 6) (1513,) (379,)\n",
            "6\n"
          ]
        }
      ]
    },
    {
      "cell_type": "code",
      "metadata": {
        "colab": {
          "base_uri": "https://localhost:8080/"
        },
        "id": "OA2OuPjMzBFt",
        "outputId": "8045c254-baf7-4eec-bc37-ee8d5e559b0f"
      },
      "source": [
        "# define model1\n",
        "model = Sequential()\n",
        "model.add(Dense(128, input_shape=(n_features,)))\n",
        "model.add(Dropout(0.5))\n",
        "model.add(BatchNormalization())\n",
        "model.add(Dense(64, activation = 'relu'))\n",
        "model.add(Dense(32))\n",
        "model.add(BatchNormalization())\n",
        "model.add(Dense(16))\n",
        "model.add(Dense(1, activation='sigmoid'))\n",
        "\n",
        "# compile model 2\n",
        "model.compile(loss='mean_squared_error', optimizer='adam', metrics=['accuracy'])\n",
        "\n",
        "# fit model 2\n",
        "history = model.fit(X_train, y_train, epochs=100, batch_size=32, verbose=2, validation_split=0.3)"
      ],
      "execution_count": 527,
      "outputs": [
        {
          "output_type": "stream",
          "name": "stdout",
          "text": [
            "Epoch 1/100\n",
            "34/34 - 1s - loss: 1.5702 - accuracy: 0.2691 - val_loss: 1.7347 - val_accuracy: 0.2423\n",
            "Epoch 2/100\n",
            "34/34 - 0s - loss: 1.3920 - accuracy: 0.3059 - val_loss: 1.5321 - val_accuracy: 0.3106\n",
            "Epoch 3/100\n",
            "34/34 - 0s - loss: 1.3391 - accuracy: 0.3720 - val_loss: 1.4442 - val_accuracy: 0.3634\n",
            "Epoch 4/100\n",
            "34/34 - 0s - loss: 1.3058 - accuracy: 0.3957 - val_loss: 1.4177 - val_accuracy: 0.3789\n",
            "Epoch 5/100\n",
            "34/34 - 0s - loss: 1.2814 - accuracy: 0.4278 - val_loss: 1.4104 - val_accuracy: 0.3855\n",
            "Epoch 6/100\n",
            "34/34 - 0s - loss: 1.2724 - accuracy: 0.4240 - val_loss: 1.4109 - val_accuracy: 0.3855\n",
            "Epoch 7/100\n",
            "34/34 - 0s - loss: 1.2655 - accuracy: 0.4344 - val_loss: 1.4086 - val_accuracy: 0.3899\n",
            "Epoch 8/100\n",
            "34/34 - 0s - loss: 1.2710 - accuracy: 0.4278 - val_loss: 1.4140 - val_accuracy: 0.3833\n",
            "Epoch 9/100\n",
            "34/34 - 0s - loss: 1.2675 - accuracy: 0.4381 - val_loss: 1.4097 - val_accuracy: 0.3877\n",
            "Epoch 10/100\n",
            "34/34 - 0s - loss: 1.2653 - accuracy: 0.4249 - val_loss: 1.4025 - val_accuracy: 0.3921\n",
            "Epoch 11/100\n",
            "34/34 - 0s - loss: 1.2785 - accuracy: 0.4249 - val_loss: 1.3989 - val_accuracy: 0.3987\n",
            "Epoch 12/100\n",
            "34/34 - 0s - loss: 1.2632 - accuracy: 0.4297 - val_loss: 1.3959 - val_accuracy: 0.4031\n",
            "Epoch 13/100\n",
            "34/34 - 0s - loss: 1.2541 - accuracy: 0.4448 - val_loss: 1.3938 - val_accuracy: 0.4031\n",
            "Epoch 14/100\n",
            "34/34 - 0s - loss: 1.2521 - accuracy: 0.4429 - val_loss: 1.3969 - val_accuracy: 0.4053\n",
            "Epoch 15/100\n",
            "34/34 - 0s - loss: 1.2534 - accuracy: 0.4457 - val_loss: 1.3983 - val_accuracy: 0.3987\n",
            "Epoch 16/100\n",
            "34/34 - 0s - loss: 1.2572 - accuracy: 0.4391 - val_loss: 1.3968 - val_accuracy: 0.4031\n",
            "Epoch 17/100\n",
            "34/34 - 0s - loss: 1.2556 - accuracy: 0.4448 - val_loss: 1.3948 - val_accuracy: 0.4053\n",
            "Epoch 18/100\n",
            "34/34 - 0s - loss: 1.2436 - accuracy: 0.4551 - val_loss: 1.3926 - val_accuracy: 0.4075\n",
            "Epoch 19/100\n",
            "34/34 - 0s - loss: 1.2449 - accuracy: 0.4523 - val_loss: 1.3891 - val_accuracy: 0.4031\n",
            "Epoch 20/100\n",
            "34/34 - 0s - loss: 1.2551 - accuracy: 0.4400 - val_loss: 1.3898 - val_accuracy: 0.4119\n",
            "Epoch 21/100\n",
            "34/34 - 0s - loss: 1.2499 - accuracy: 0.4466 - val_loss: 1.3927 - val_accuracy: 0.4009\n",
            "Epoch 22/100\n",
            "34/34 - 0s - loss: 1.2489 - accuracy: 0.4448 - val_loss: 1.3899 - val_accuracy: 0.4075\n",
            "Epoch 23/100\n",
            "34/34 - 0s - loss: 1.2461 - accuracy: 0.4570 - val_loss: 1.3906 - val_accuracy: 0.4053\n",
            "Epoch 24/100\n",
            "34/34 - 0s - loss: 1.2495 - accuracy: 0.4476 - val_loss: 1.3904 - val_accuracy: 0.4075\n",
            "Epoch 25/100\n",
            "34/34 - 0s - loss: 1.2496 - accuracy: 0.4495 - val_loss: 1.3917 - val_accuracy: 0.4119\n",
            "Epoch 26/100\n",
            "34/34 - 0s - loss: 1.2536 - accuracy: 0.4438 - val_loss: 1.3918 - val_accuracy: 0.4075\n",
            "Epoch 27/100\n",
            "34/34 - 0s - loss: 1.2439 - accuracy: 0.4570 - val_loss: 1.3929 - val_accuracy: 0.4075\n",
            "Epoch 28/100\n",
            "34/34 - 0s - loss: 1.2589 - accuracy: 0.4466 - val_loss: 1.3890 - val_accuracy: 0.4097\n",
            "Epoch 29/100\n",
            "34/34 - 0s - loss: 1.2413 - accuracy: 0.4495 - val_loss: 1.3880 - val_accuracy: 0.4119\n",
            "Epoch 30/100\n",
            "34/34 - 0s - loss: 1.2454 - accuracy: 0.4514 - val_loss: 1.3874 - val_accuracy: 0.4097\n",
            "Epoch 31/100\n",
            "34/34 - 0s - loss: 1.2417 - accuracy: 0.4561 - val_loss: 1.3842 - val_accuracy: 0.4141\n",
            "Epoch 32/100\n",
            "34/34 - 0s - loss: 1.2550 - accuracy: 0.4410 - val_loss: 1.3893 - val_accuracy: 0.4141\n",
            "Epoch 33/100\n",
            "34/34 - 0s - loss: 1.2422 - accuracy: 0.4504 - val_loss: 1.3880 - val_accuracy: 0.4141\n",
            "Epoch 34/100\n",
            "34/34 - 0s - loss: 1.2469 - accuracy: 0.4476 - val_loss: 1.3891 - val_accuracy: 0.4097\n",
            "Epoch 35/100\n",
            "34/34 - 0s - loss: 1.2434 - accuracy: 0.4551 - val_loss: 1.3878 - val_accuracy: 0.4097\n",
            "Epoch 36/100\n",
            "34/34 - 0s - loss: 1.2437 - accuracy: 0.4533 - val_loss: 1.3884 - val_accuracy: 0.4075\n",
            "Epoch 37/100\n",
            "34/34 - 0s - loss: 1.2414 - accuracy: 0.4533 - val_loss: 1.3928 - val_accuracy: 0.4053\n",
            "Epoch 38/100\n",
            "34/34 - 0s - loss: 1.2351 - accuracy: 0.4618 - val_loss: 1.3840 - val_accuracy: 0.4141\n",
            "Epoch 39/100\n",
            "34/34 - 0s - loss: 1.2289 - accuracy: 0.4684 - val_loss: 1.3832 - val_accuracy: 0.4119\n",
            "Epoch 40/100\n",
            "34/34 - 0s - loss: 1.2370 - accuracy: 0.4599 - val_loss: 1.3817 - val_accuracy: 0.4185\n",
            "Epoch 41/100\n",
            "34/34 - 0s - loss: 1.2387 - accuracy: 0.4589 - val_loss: 1.3812 - val_accuracy: 0.4185\n",
            "Epoch 42/100\n",
            "34/34 - 0s - loss: 1.2446 - accuracy: 0.4542 - val_loss: 1.3853 - val_accuracy: 0.4097\n",
            "Epoch 43/100\n",
            "34/34 - 0s - loss: 1.2363 - accuracy: 0.4561 - val_loss: 1.3832 - val_accuracy: 0.4141\n",
            "Epoch 44/100\n",
            "34/34 - 0s - loss: 1.2400 - accuracy: 0.4570 - val_loss: 1.3797 - val_accuracy: 0.4207\n",
            "Epoch 45/100\n",
            "34/34 - 0s - loss: 1.2301 - accuracy: 0.4646 - val_loss: 1.3821 - val_accuracy: 0.4141\n",
            "Epoch 46/100\n",
            "34/34 - 0s - loss: 1.2356 - accuracy: 0.4618 - val_loss: 1.3812 - val_accuracy: 0.4163\n",
            "Epoch 47/100\n",
            "34/34 - 0s - loss: 1.2424 - accuracy: 0.4570 - val_loss: 1.3742 - val_accuracy: 0.4273\n",
            "Epoch 48/100\n",
            "34/34 - 0s - loss: 1.2366 - accuracy: 0.4599 - val_loss: 1.3783 - val_accuracy: 0.4229\n",
            "Epoch 49/100\n",
            "34/34 - 0s - loss: 1.2332 - accuracy: 0.4618 - val_loss: 1.3794 - val_accuracy: 0.4185\n",
            "Epoch 50/100\n",
            "34/34 - 0s - loss: 1.2301 - accuracy: 0.4655 - val_loss: 1.3797 - val_accuracy: 0.4185\n",
            "Epoch 51/100\n",
            "34/34 - 0s - loss: 1.2387 - accuracy: 0.4580 - val_loss: 1.3866 - val_accuracy: 0.4141\n",
            "Epoch 52/100\n",
            "34/34 - 0s - loss: 1.2370 - accuracy: 0.4627 - val_loss: 1.3834 - val_accuracy: 0.4141\n",
            "Epoch 53/100\n",
            "34/34 - 0s - loss: 1.2279 - accuracy: 0.4646 - val_loss: 1.3824 - val_accuracy: 0.4185\n",
            "Epoch 54/100\n",
            "34/34 - 0s - loss: 1.2379 - accuracy: 0.4570 - val_loss: 1.3838 - val_accuracy: 0.4141\n",
            "Epoch 55/100\n",
            "34/34 - 0s - loss: 1.2325 - accuracy: 0.4655 - val_loss: 1.3773 - val_accuracy: 0.4229\n",
            "Epoch 56/100\n",
            "34/34 - 0s - loss: 1.2315 - accuracy: 0.4599 - val_loss: 1.3739 - val_accuracy: 0.4251\n",
            "Epoch 57/100\n",
            "34/34 - 0s - loss: 1.2288 - accuracy: 0.4674 - val_loss: 1.3757 - val_accuracy: 0.4207\n",
            "Epoch 58/100\n",
            "34/34 - 0s - loss: 1.2278 - accuracy: 0.4665 - val_loss: 1.3728 - val_accuracy: 0.4273\n",
            "Epoch 59/100\n",
            "34/34 - 0s - loss: 1.2379 - accuracy: 0.4542 - val_loss: 1.3767 - val_accuracy: 0.4251\n",
            "Epoch 60/100\n",
            "34/34 - 0s - loss: 1.2316 - accuracy: 0.4608 - val_loss: 1.3789 - val_accuracy: 0.4207\n",
            "Epoch 61/100\n",
            "34/34 - 0s - loss: 1.2201 - accuracy: 0.4816 - val_loss: 1.3774 - val_accuracy: 0.4207\n",
            "Epoch 62/100\n",
            "34/34 - 0s - loss: 1.2316 - accuracy: 0.4684 - val_loss: 1.3739 - val_accuracy: 0.4273\n",
            "Epoch 63/100\n",
            "34/34 - 0s - loss: 1.2240 - accuracy: 0.4731 - val_loss: 1.3727 - val_accuracy: 0.4229\n",
            "Epoch 64/100\n",
            "34/34 - 0s - loss: 1.2244 - accuracy: 0.4731 - val_loss: 1.3711 - val_accuracy: 0.4229\n",
            "Epoch 65/100\n",
            "34/34 - 0s - loss: 1.2365 - accuracy: 0.4580 - val_loss: 1.3692 - val_accuracy: 0.4317\n",
            "Epoch 66/100\n",
            "34/34 - 0s - loss: 1.2256 - accuracy: 0.4655 - val_loss: 1.3708 - val_accuracy: 0.4273\n",
            "Epoch 67/100\n",
            "34/34 - 0s - loss: 1.2299 - accuracy: 0.4636 - val_loss: 1.3749 - val_accuracy: 0.4185\n",
            "Epoch 68/100\n",
            "34/34 - 0s - loss: 1.2314 - accuracy: 0.4665 - val_loss: 1.3767 - val_accuracy: 0.4207\n",
            "Epoch 69/100\n",
            "34/34 - 0s - loss: 1.2199 - accuracy: 0.4769 - val_loss: 1.3734 - val_accuracy: 0.4229\n",
            "Epoch 70/100\n",
            "34/34 - 0s - loss: 1.2199 - accuracy: 0.4703 - val_loss: 1.3708 - val_accuracy: 0.4251\n",
            "Epoch 71/100\n",
            "34/34 - 0s - loss: 1.2268 - accuracy: 0.4646 - val_loss: 1.3770 - val_accuracy: 0.4185\n",
            "Epoch 72/100\n",
            "34/34 - 0s - loss: 1.2247 - accuracy: 0.4674 - val_loss: 1.3750 - val_accuracy: 0.4207\n",
            "Epoch 73/100\n",
            "34/34 - 0s - loss: 1.2178 - accuracy: 0.4759 - val_loss: 1.3729 - val_accuracy: 0.4207\n",
            "Epoch 74/100\n",
            "34/34 - 0s - loss: 1.2194 - accuracy: 0.4731 - val_loss: 1.3731 - val_accuracy: 0.4207\n",
            "Epoch 75/100\n",
            "34/34 - 0s - loss: 1.2197 - accuracy: 0.4731 - val_loss: 1.3706 - val_accuracy: 0.4273\n",
            "Epoch 76/100\n",
            "34/34 - 0s - loss: 1.2196 - accuracy: 0.4769 - val_loss: 1.3692 - val_accuracy: 0.4251\n",
            "Epoch 77/100\n",
            "34/34 - 0s - loss: 1.2236 - accuracy: 0.4740 - val_loss: 1.3727 - val_accuracy: 0.4229\n",
            "Epoch 78/100\n",
            "34/34 - 0s - loss: 1.2205 - accuracy: 0.4740 - val_loss: 1.3710 - val_accuracy: 0.4229\n",
            "Epoch 79/100\n",
            "34/34 - 0s - loss: 1.2189 - accuracy: 0.4740 - val_loss: 1.3653 - val_accuracy: 0.4295\n",
            "Epoch 80/100\n",
            "34/34 - 0s - loss: 1.2139 - accuracy: 0.4797 - val_loss: 1.3656 - val_accuracy: 0.4295\n",
            "Epoch 81/100\n",
            "34/34 - 0s - loss: 1.2210 - accuracy: 0.4759 - val_loss: 1.3715 - val_accuracy: 0.4229\n",
            "Epoch 82/100\n",
            "34/34 - 0s - loss: 1.2279 - accuracy: 0.4721 - val_loss: 1.3710 - val_accuracy: 0.4229\n",
            "Epoch 83/100\n",
            "34/34 - 0s - loss: 1.2246 - accuracy: 0.4684 - val_loss: 1.3692 - val_accuracy: 0.4273\n",
            "Epoch 84/100\n",
            "34/34 - 0s - loss: 1.2191 - accuracy: 0.4759 - val_loss: 1.3683 - val_accuracy: 0.4295\n",
            "Epoch 85/100\n",
            "34/34 - 0s - loss: 1.2199 - accuracy: 0.4778 - val_loss: 1.3655 - val_accuracy: 0.4295\n",
            "Epoch 86/100\n",
            "34/34 - 0s - loss: 1.2231 - accuracy: 0.4731 - val_loss: 1.3644 - val_accuracy: 0.4361\n",
            "Epoch 87/100\n",
            "34/34 - 0s - loss: 1.2147 - accuracy: 0.4873 - val_loss: 1.3651 - val_accuracy: 0.4295\n",
            "Epoch 88/100\n",
            "34/34 - 0s - loss: 1.2156 - accuracy: 0.4835 - val_loss: 1.3688 - val_accuracy: 0.4273\n",
            "Epoch 89/100\n",
            "34/34 - 0s - loss: 1.2242 - accuracy: 0.4731 - val_loss: 1.3658 - val_accuracy: 0.4317\n",
            "Epoch 90/100\n",
            "34/34 - 0s - loss: 1.2285 - accuracy: 0.4608 - val_loss: 1.3705 - val_accuracy: 0.4317\n",
            "Epoch 91/100\n",
            "34/34 - 0s - loss: 1.2211 - accuracy: 0.4731 - val_loss: 1.3697 - val_accuracy: 0.4295\n",
            "Epoch 92/100\n",
            "34/34 - 0s - loss: 1.2196 - accuracy: 0.4740 - val_loss: 1.3690 - val_accuracy: 0.4251\n",
            "Epoch 93/100\n",
            "34/34 - 0s - loss: 1.2151 - accuracy: 0.4797 - val_loss: 1.3707 - val_accuracy: 0.4273\n",
            "Epoch 94/100\n",
            "34/34 - 0s - loss: 1.2165 - accuracy: 0.4788 - val_loss: 1.3690 - val_accuracy: 0.4273\n",
            "Epoch 95/100\n",
            "34/34 - 0s - loss: 1.2172 - accuracy: 0.4759 - val_loss: 1.3735 - val_accuracy: 0.4185\n",
            "Epoch 96/100\n",
            "34/34 - 0s - loss: 1.2151 - accuracy: 0.4825 - val_loss: 1.3723 - val_accuracy: 0.4207\n",
            "Epoch 97/100\n",
            "34/34 - 0s - loss: 1.2254 - accuracy: 0.4627 - val_loss: 1.3689 - val_accuracy: 0.4251\n",
            "Epoch 98/100\n",
            "34/34 - 0s - loss: 1.2229 - accuracy: 0.4665 - val_loss: 1.3670 - val_accuracy: 0.4295\n",
            "Epoch 99/100\n",
            "34/34 - 0s - loss: 1.2222 - accuracy: 0.4759 - val_loss: 1.3677 - val_accuracy: 0.4273\n",
            "Epoch 100/100\n",
            "34/34 - 0s - loss: 1.2245 - accuracy: 0.4693 - val_loss: 1.3724 - val_accuracy: 0.4251\n"
          ]
        }
      ]
    },
    {
      "cell_type": "code",
      "metadata": {
        "colab": {
          "base_uri": "https://localhost:8080/"
        },
        "id": "ckhXpdmGzme0",
        "outputId": "aab8abce-00e8-4a23-b18b-df5e55c16454"
      },
      "source": [
        "model.summary()"
      ],
      "execution_count": 528,
      "outputs": [
        {
          "output_type": "stream",
          "name": "stdout",
          "text": [
            "Model: \"sequential_89\"\n",
            "_________________________________________________________________\n",
            "Layer (type)                 Output Shape              Param #   \n",
            "=================================================================\n",
            "dense_267 (Dense)            (None, 128)               896       \n",
            "_________________________________________________________________\n",
            "dropout_3 (Dropout)          (None, 128)               0         \n",
            "_________________________________________________________________\n",
            "batch_normalization_6 (Batch (None, 128)               512       \n",
            "_________________________________________________________________\n",
            "dense_268 (Dense)            (None, 64)                8256      \n",
            "_________________________________________________________________\n",
            "dense_269 (Dense)            (None, 32)                2080      \n",
            "_________________________________________________________________\n",
            "batch_normalization_7 (Batch (None, 32)                128       \n",
            "_________________________________________________________________\n",
            "dense_270 (Dense)            (None, 16)                528       \n",
            "_________________________________________________________________\n",
            "dense_271 (Dense)            (None, 1)                 17        \n",
            "=================================================================\n",
            "Total params: 12,417\n",
            "Trainable params: 12,097\n",
            "Non-trainable params: 320\n",
            "_________________________________________________________________\n"
          ]
        }
      ]
    },
    {
      "cell_type": "code",
      "metadata": {
        "colab": {
          "base_uri": "https://localhost:8080/",
          "height": 976
        },
        "id": "XDkgGUxFzo3t",
        "outputId": "4bd062ca-38a4-48c5-b461-e1a28de490de"
      },
      "source": [
        "from tensorflow.keras.utils import plot_model\n",
        "plot_model(model, 'model_summary.png', show_shapes=True)"
      ],
      "execution_count": 529,
      "outputs": [
        {
          "output_type": "execute_result",
          "data": {
            "image/png": "[encoded data removed]",
            "text/plain": [
              "<IPython.core.display.Image object>"
            ]
          },
          "metadata": {},
          "execution_count": 529
        }
      ]
    },
    {
      "cell_type": "code",
      "metadata": {
        "colab": {
          "base_uri": "https://localhost:8080/"
        },
        "id": "gZ9hf0hgzuKj",
        "outputId": "51686e34-b7cb-4f6d-900f-4fab6a741476"
      },
      "source": [
        "model.evaluate(X_test, y_test, verbose=0)"
      ],
      "execution_count": 530,
      "outputs": [
        {
          "output_type": "execute_result",
          "data": {
            "text/plain": [
              "[1.3883963823318481, 0.4116095006465912]"
            ]
          },
          "metadata": {},
          "execution_count": 530
        }
      ]
    },
    {
      "cell_type": "code",
      "metadata": {
        "colab": {
          "base_uri": "https://localhost:8080/",
          "height": 295
        },
        "id": "RLSykHNMzywS",
        "outputId": "486c7007-735a-44f2-d900-01e42a4491a7"
      },
      "source": [
        "from matplotlib import pyplot\n",
        "pyplot.title('Learning Curves')\n",
        "pyplot.xlabel('Epoch')\n",
        "pyplot.ylabel('Accuracy')\n",
        "pyplot.plot(history.history['accuracy'], label='train')\n",
        "pyplot.plot(history.history['val_accuracy'], label='val')\n",
        "pyplot.legend()\n",
        "pyplot.show()"
      ],
      "execution_count": 531,
      "outputs": [
        {
          "output_type": "display_data",
          "data": {
            "image/png": "[encoded data removed]",
            "text/plain": [
              "<Figure size 432x288 with 1 Axes>"
            ]
          },
          "metadata": {
            "needs_background": "light"
          }
        }
      ]
    },
    {
      "cell_type": "code",
      "metadata": {
        "colab": {
          "base_uri": "https://localhost:8080/",
          "height": 295
        },
        "id": "Bb4TisUWz1ni",
        "outputId": "0dc47bad-4951-4545-f24c-36c7986446a4"
      },
      "source": [
        "pyplot.title('Learning Curves')\n",
        "pyplot.xlabel('Epoch')\n",
        "pyplot.ylabel('Loss function')\n",
        "pyplot.plot(history.history['loss'], label='train')\n",
        "pyplot.plot(history.history['val_loss'], label='val')\n",
        "pyplot.legend()\n",
        "pyplot.show()"
      ],
      "execution_count": 532,
      "outputs": [
        {
          "output_type": "display_data",
          "data": {
            "image/png": "[encoded data removed]",
            "text/plain": [
              "<Figure size 432x288 with 1 Axes>"
            ]
          },
          "metadata": {
            "needs_background": "light"
          }
        }
      ]
    },
    {
      "cell_type": "markdown",
      "metadata": {
        "id": "ZVuY2QdwW6dO"
      },
      "source": [
        "## 10. Build Model KNN"
      ]
    },
    {
      "cell_type": "code",
      "metadata": {
        "id": "Dks_OpdeW9fY",
        "colab": {
          "base_uri": "https://localhost:8080/"
        },
        "outputId": "63507cff-e27a-42f2-853b-cb85e1ddaacd"
      },
      "source": [
        "from sklearn.model_selection import train_test_split\n",
        "X_train, X_test, y_train, y_test = train_test_split( X, Y, test_size=0.2, random_state=31)\n",
        "print ('Train set:', X_train.shape,  y_train.shape)\n",
        "print ('Test set:', X_test.shape,  y_test.shape)"
      ],
      "execution_count": 533,
      "outputs": [
        {
          "output_type": "stream",
          "name": "stdout",
          "text": [
            "Train set: (492, 6) (492,)\n",
            "Test set: (124, 6) (124,)\n"
          ]
        }
      ]
    },
    {
      "cell_type": "code",
      "metadata": {
        "colab": {
          "base_uri": "https://localhost:8080/"
        },
        "id": "Egol0Y5xhNbq",
        "outputId": "1e9f359d-ac6e-4230-dcef-b04c02769d7d"
      },
      "source": [
        "from sklearn.neighbors import KNeighborsClassifier\n",
        "k = 54\n",
        "#Train Model and Predict  \n",
        "knn = KNeighborsClassifier(n_neighbors = k).fit(X_train,y_train)\n",
        "knn"
      ],
      "execution_count": 534,
      "outputs": [
        {
          "output_type": "execute_result",
          "data": {
            "text/plain": [
              "KNeighborsClassifier(algorithm='auto', leaf_size=30, metric='minkowski',\n",
              "                     metric_params=None, n_jobs=None, n_neighbors=54, p=2,\n",
              "                     weights='uniform')"
            ]
          },
          "metadata": {},
          "execution_count": 534
        }
      ]
    },
    {
      "cell_type": "code",
      "metadata": {
        "colab": {
          "base_uri": "https://localhost:8080/"
        },
        "id": "ym44QuFnhRnl",
        "outputId": "e20e950b-45da-41eb-b59a-4f7ff5b58463"
      },
      "source": [
        "yhat = knn.predict(X_test)\n",
        "yhat[:]"
      ],
      "execution_count": 535,
      "outputs": [
        {
          "output_type": "execute_result",
          "data": {
            "text/plain": [
              "array([1, 1, 1, 1, 1, 1, 1, 1, 1, 1, 1, 1, 1, 1, 1, 1, 1, 1, 1, 1, 1, 1,\n",
              "       1, 1, 1, 1, 1, 1, 1, 1, 1, 1, 1, 1, 1, 1, 1, 1, 1, 1, 1, 1, 1, 1,\n",
              "       1, 1, 1, 1, 1, 1, 1, 1, 1, 1, 1, 1, 1, 1, 1, 1, 1, 1, 1, 1, 1, 1,\n",
              "       1, 1, 1, 1, 1, 1, 1, 1, 1, 1, 1, 1, 1, 1, 1, 1, 1, 1, 1, 1, 1, 1,\n",
              "       1, 1, 1, 1, 1, 3, 1, 1, 1, 1, 1, 1, 1, 1, 1, 3, 1, 1, 1, 1, 1, 1,\n",
              "       1, 1, 1, 1, 1, 1, 1, 1, 1, 1, 1, 1, 1, 1])"
            ]
          },
          "metadata": {},
          "execution_count": 535
        }
      ]
    },
    {
      "cell_type": "code",
      "metadata": {
        "colab": {
          "base_uri": "https://localhost:8080/"
        },
        "id": "mopr7H-BhSrX",
        "outputId": "f268e91f-8eef-4bf8-a9b6-a808d9ddf748"
      },
      "source": [
        "from sklearn import metrics\n",
        "print(\"Train set Accuracy: \", metrics.accuracy_score(y_train, knn.predict(X_train)))\n",
        "print(\"Test set Accuracy: \", metrics.accuracy_score(y_test, yhat))"
      ],
      "execution_count": 536,
      "outputs": [
        {
          "output_type": "stream",
          "name": "stdout",
          "text": [
            "Train set Accuracy:  0.7560975609756098\n",
            "Test set Accuracy:  0.8467741935483871\n"
          ]
        }
      ]
    },
    {
      "cell_type": "code",
      "metadata": {
        "colab": {
          "base_uri": "https://localhost:8080/"
        },
        "id": "uOfW5vxhhXem",
        "outputId": "69f8f269-7e72-470a-ebe9-476b275f380c"
      },
      "source": [
        "Ks = 80\n",
        "mean_acc = np.zeros((Ks))\n",
        "\n",
        "for n in range(1,Ks+1):\n",
        "    \n",
        "    #Train Model and Predict  \n",
        "    neigh = KNeighborsClassifier(n_neighbors = n).fit(X_train,y_train)\n",
        "    yhat=neigh.predict(X_test)\n",
        "    mean_acc[n-1] = metrics.accuracy_score(y_test, yhat)\n",
        "\n",
        "mean_acc"
      ],
      "execution_count": 537,
      "outputs": [
        {
          "output_type": "execute_result",
          "data": {
            "text/plain": [
              "array([0.69354839, 0.80645161, 0.75      , 0.79032258, 0.77419355,\n",
              "       0.81451613, 0.79032258, 0.80645161, 0.77419355, 0.7983871 ,\n",
              "       0.78225806, 0.7983871 , 0.78225806, 0.82258065, 0.78225806,\n",
              "       0.81451613, 0.7983871 , 0.82258065, 0.80645161, 0.81451613,\n",
              "       0.80645161, 0.81451613, 0.7983871 , 0.7983871 , 0.79032258,\n",
              "       0.80645161, 0.78225806, 0.80645161, 0.79032258, 0.79032258,\n",
              "       0.79032258, 0.7983871 , 0.80645161, 0.80645161, 0.7983871 ,\n",
              "       0.7983871 , 0.7983871 , 0.83064516, 0.82258065, 0.83064516,\n",
              "       0.81451613, 0.83870968, 0.82258065, 0.83064516, 0.81451613,\n",
              "       0.83064516, 0.83064516, 0.83870968, 0.83064516, 0.83064516,\n",
              "       0.83870968, 0.83870968, 0.83870968, 0.84677419, 0.84677419,\n",
              "       0.83064516, 0.83870968, 0.83064516, 0.83064516, 0.83064516,\n",
              "       0.83064516, 0.83064516, 0.83064516, 0.83064516, 0.83064516,\n",
              "       0.83064516, 0.83064516, 0.83064516, 0.83064516, 0.83064516,\n",
              "       0.83064516, 0.83064516, 0.83064516, 0.83064516, 0.83064516,\n",
              "       0.83064516, 0.83064516, 0.83064516, 0.83064516, 0.83064516])"
            ]
          },
          "metadata": {},
          "execution_count": 537
        }
      ]
    },
    {
      "cell_type": "code",
      "metadata": {
        "colab": {
          "base_uri": "https://localhost:8080/",
          "height": 314
        },
        "id": "DyErgvx9hbiI",
        "outputId": "32a32a62-8cf3-41e5-a41d-7b55d7e3b0b5"
      },
      "source": [
        "plt.plot(range(1,Ks+1),mean_acc,'g')\n",
        "\n",
        "plt.legend(('Accuracy '))\n",
        "plt.ylabel('Accuracy ')\n",
        "plt.xlabel('Number of Nabors (K)')\n",
        "plt.tight_layout()\n",
        "plt.show()\n",
        "print( \"The best accuracy was with\", mean_acc.max(), \"with k=\", mean_acc.argmax()+1)"
      ],
      "execution_count": 538,
      "outputs": [
        {
          "output_type": "display_data",
          "data": {
            "image/png": "[encoded data removed]",
            "text/plain": [
              "<Figure size 432x288 with 1 Axes>"
            ]
          },
          "metadata": {
            "needs_background": "light"
          }
        },
        {
          "output_type": "stream",
          "name": "stdout",
          "text": [
            "The best accuracy was with 0.8467741935483871 with k= 54\n"
          ]
        }
      ]
    }
  ]
}